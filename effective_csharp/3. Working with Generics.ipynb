{
 "cells": [
  {
   "cell_type": "markdown",
   "metadata": {},
   "source": [
    "## 3. Working with Generics\n",
    "Generics allow you to define the specification of the data type of programming elements in a class or a method, until it is actually used in the program. In other words, generics allow you to write a class or method that can work with any data type."
   ]
  },
  {
   "cell_type": "code",
   "execution_count": 4,
   "metadata": {},
   "outputs": [
    {
     "name": "stdout",
     "output_type": "stream",
     "text": [
      "0 5 10 15 20 \n",
      "a b c d e \n"
     ]
    }
   ],
   "source": [
    "public class MyGenericArray<T> {\n",
    "    private T[] array;\n",
    "      \n",
    "    public MyGenericArray(int size) {\n",
    "        array = new T[size + 1];\n",
    "    }\n",
    "\n",
    "    public T getItem(int index) {\n",
    "        return array[index];\n",
    "    }\n",
    "    \n",
    "    public void setItem(int index, T value) {\n",
    "        array[index] = value;\n",
    "    }\n",
    "}\n",
    "\n",
    "\n",
    "class Tester {\n",
    "    public static void Main() {\n",
    "        int len = 5;\n",
    "\n",
    "        //declaring an int array\n",
    "        MyGenericArray<int> intArray = new MyGenericArray<int>(len);\n",
    "         \n",
    "        //setting values\n",
    "        for (int c = 0; c < len; c++) {\n",
    "            intArray.setItem(c, c*5);\n",
    "        }\n",
    "         \n",
    "        //retrieving the values\n",
    "        for (int c = 0; c < len; c++) {\n",
    "            Console.Write(intArray.getItem(c) + \" \");\n",
    "        }\n",
    "        Console.WriteLine();\n",
    "         \n",
    "        //declaring a character array\n",
    "        MyGenericArray<char> charArray = new MyGenericArray<char>(len);\n",
    "         \n",
    "        //setting values\n",
    "        for (int c = 0; c < 5; c++) {\n",
    "            charArray.setItem(c, (char)(c+97));\n",
    "        }\n",
    "         \n",
    "        //retrieving the values\n",
    "        for (int c = 0; c< 5; c++) {\n",
    "            Console.Write(charArray.getItem(c) + \" \");\n",
    "        }\n",
    "        Console.WriteLine();\n",
    "    }\n",
    "}\n",
    "\n",
    "\n",
    "Tester.Main();"
   ]
  },
  {
   "cell_type": "markdown",
   "metadata": {},
   "source": [
    "Some articles and papers might lead you to believe that generics are useful only in the context of collections. That’s not true. There are many other ways to use generics. You can use them to create interfaces, event handlers, common algorithms, and more."
   ]
  },
  {
   "cell_type": "markdown",
   "metadata": {},
   "source": [
    "### Item 18: Always Define Constraints That Are Minimal and Sufficient"
   ]
  },
  {
   "cell_type": "markdown",
   "metadata": {},
   "source": [
    "### Item 19: Specialize Generic Algorithms Using Runtime Type Checking"
   ]
  },
  {
   "cell_type": "markdown",
   "metadata": {},
   "source": [
    "### Item 20: Implement Ordering Relations with IComparable<T> and IComparer<T>\n"
   ]
  },
  {
   "cell_type": "code",
   "execution_count": 10,
   "metadata": {},
   "outputs": [],
   "source": [
    "public struct Customer : IComparable<Customer>, IComparable {\n",
    "    public readonly string name;\n",
    "    \n",
    "    public Customer(string name) {\n",
    "        this.name = name;\n",
    "    }\n",
    "    \n",
    "    // IComparable<Customer> Members\n",
    "    public int CompareTo(Customer other) => name.CompareTo(other.name);\n",
    "    \n",
    "    // IComparable Members\n",
    "    int IComparable.CompareTo(object obj) {\n",
    "        if (!(obj is Customer)) {\n",
    "            throw new ArgumentException(\"Argument is not a Customer\", \"obj\");\n",
    "        }\n",
    "        Customer otherCustomer = (Customer)obj;\n",
    "        return this.CompareTo(otherCustomer);\n",
    "    }\n",
    "}\n"
   ]
  },
  {
   "cell_type": "code",
   "execution_count": 12,
   "metadata": {},
   "outputs": [
    {
     "name": "stdout",
     "output_type": "stream",
     "text": [
      "Jake\n",
      "James\n",
      "Simon\n"
     ]
    }
   ],
   "source": [
    "List<Customer> customers = new List<Customer>(); \n",
    "customers.Add(new Customer(\"Simon\"));\n",
    "customers.Add(new Customer(\"Jake\"));\n",
    "customers.Add(new Customer(\"James\"));\n",
    "\n",
    "customers.Sort();\n",
    "foreach(var customer in customers) {\n",
    "    Console.WriteLine(customer.name);\n",
    "}"
   ]
  },
  {
   "cell_type": "markdown",
   "metadata": {},
   "source": [
    "There’s just too much to dislike about the classic version of IComparable. You’ve got to check the runtime type of the argument. Incorrect code could legally call this method with anything as the argument to the CompareTo method. More so, proper arguments must be boxed and unboxed to provide the actual comparison. That’s an extra runtime expense for each compare.\n",
    "\n",
    "Adding operators to this code..."
   ]
  },
  {
   "cell_type": "code",
   "execution_count": 13,
   "metadata": {},
   "outputs": [],
   "source": [
    "public struct Customer : IComparable<Customer>, IComparable {\n",
    "    public readonly string name;\n",
    "    \n",
    "    public Customer(string name) {\n",
    "        this.name = name;\n",
    "    }\n",
    "    \n",
    "    // IComparable<Customer> Members\n",
    "    public int CompareTo(Customer other) => name.CompareTo(other.name);\n",
    "    \n",
    "    // IComparable Members\n",
    "    int IComparable.CompareTo(object obj) {\n",
    "        if (!(obj is Customer)) {\n",
    "            throw new ArgumentException(\"Argument is not a Customer\", \"obj\");\n",
    "        }\n",
    "        Customer otherCustomer = (Customer)obj;\n",
    "        return this.CompareTo(otherCustomer);\n",
    "    }\n",
    "    \n",
    "    public static bool operator < (Customer left, Customer right) => left.CompareTo(right) < 0;\n",
    "    \n",
    "    public static bool operator <= (Customer left, Customer right) => left.CompareTo(right) <= 0;\n",
    "    \n",
    "    public static bool operator > (Customer left, Customer right) => left.CompareTo(right) > 0;\n",
    "    \n",
    "    public static bool operator >= (Customer left, Customer right) => left.CompareTo(right) >= 0;\n",
    "}"
   ]
  },
  {
   "cell_type": "code",
   "execution_count": 14,
   "metadata": {},
   "outputs": [],
   "source": [
    "var simon = new Customer(\"Simon\");\n",
    "var james = new Customer(\"James\");"
   ]
  },
  {
   "cell_type": "code",
   "execution_count": 18,
   "metadata": {},
   "outputs": [
    {
     "data": {
      "text/html": [
       "True"
      ]
     },
     "execution_count": 18,
     "metadata": {},
     "output_type": "execute_result"
    }
   ],
   "source": [
    "simon > james"
   ]
  },
  {
   "cell_type": "code",
   "execution_count": 19,
   "metadata": {},
   "outputs": [
    {
     "data": {
      "text/html": [
       "True"
      ]
     },
     "execution_count": 19,
     "metadata": {},
     "output_type": "execute_result"
    }
   ],
   "source": [
    "simon >= james"
   ]
  },
  {
   "cell_type": "code",
   "execution_count": 16,
   "metadata": {},
   "outputs": [
    {
     "data": {
      "text/html": [
       "False"
      ]
     },
     "execution_count": 16,
     "metadata": {},
     "output_type": "execute_result"
    }
   ],
   "source": [
    "simon < james"
   ]
  },
  {
   "cell_type": "code",
   "execution_count": 20,
   "metadata": {},
   "outputs": [
    {
     "data": {
      "text/html": [
       "False"
      ]
     },
     "execution_count": 20,
     "metadata": {},
     "output_type": "execute_result"
    }
   ],
   "source": [
    "simon <= james"
   ]
  },
  {
   "cell_type": "markdown",
   "metadata": {},
   "source": [
    "### Item 21: Always Create Generic Classes That Support Disposable Type Parameters"
   ]
  },
  {
   "cell_type": "code",
   "execution_count": 21,
   "metadata": {},
   "outputs": [],
   "source": [
    "public interface IEngine {\n",
    "    void DoWork();\n",
    "}\n",
    "\n",
    "public class EngineDriverOne<T> where T: IEngine, new() {\n",
    "    public void GetThingsDone() {\n",
    "        T driver = new T();\n",
    "        driver.DoWork();\n",
    "    }\n",
    "}"
   ]
  },
  {
   "cell_type": "markdown",
   "metadata": {},
   "source": [
    "You may have introduced a resource leak if T implements IDisposable. In every case where you create a local variable of type T, you need to check whether T implements IDisposable and, if so, dispose of it correctly."
   ]
  },
  {
   "cell_type": "code",
   "execution_count": 22,
   "metadata": {},
   "outputs": [],
   "source": [
    "public class EngineDriverOne<T> where T: IEngine, new() {\n",
    "    public void GetThingsDone() {\n",
    "        T driver = new T();\n",
    "        using (driver as IDisposable) {\n",
    "            driver.DoWork();\n",
    "        }\n",
    "    }\n",
    "}"
   ]
  },
  {
   "cell_type": "markdown",
   "metadata": {},
   "source": [
    "If T does not implement IDisposable, then the value of this local variable is null. In those cases, the compiler does not call Dispose(), because it checks against null before doing this extra work."
   ]
  },
  {
   "cell_type": "markdown",
   "metadata": {},
   "source": [
    "### Item 22: Support Generic Covariance and Contravariance"
   ]
  },
  {
   "cell_type": "markdown",
   "metadata": {},
   "source": [
    "### Item 23: Use Delegates to Define Method Constraints on Type Parameters"
   ]
  },
  {
   "cell_type": "code",
   "execution_count": 1,
   "metadata": {},
   "outputs": [],
   "source": [
    "public static class Example {\n",
    "    public static T Add<T> (T left, T right, Func<T,T,T> AddFunc) => AddFunc(left, right);\n",
    "}"
   ]
  },
  {
   "cell_type": "code",
   "execution_count": 3,
   "metadata": {},
   "outputs": [
    {
     "data": {
      "text/html": [
       "13"
      ]
     },
     "execution_count": 3,
     "metadata": {},
     "output_type": "execute_result"
    }
   ],
   "source": [
    "int a = 6;\n",
    "int b = 7;\n",
    "int sum = Example.Add(a, b, (x, y) => x + y);\n",
    "sum"
   ]
  },
  {
   "cell_type": "markdown",
   "metadata": {},
   "source": [
    "### Item 24: Do Not Create Generic Specialization on Base Classes or Interfaces\n",
    "You must pay careful attention to overload resolution, and you must determine when generic methods will create better matches than the methods developers might reasonably expect."
   ]
  },
  {
   "cell_type": "code",
   "execution_count": 8,
   "metadata": {},
   "outputs": [
    {
     "name": "stdout",
     "output_type": "stream",
     "text": [
      "Calling Program.WriteMessage\n",
      "Inside WriteMessage<T>(T):\n",
      "Calling through IMessageWriter interface\n",
      "Inside WriteMessage(IMessageWriter):Inside MyDerived.WriteMessage\n",
      "\n",
      "Cast to base object\n",
      "Inside WriteMessage(MyBase)\n",
      "\n",
      "Another Type test:\n",
      "Inside WriteMessage<T>(T):\n",
      "Cast to IMessageWriter:\n",
      "Inside WriteMessage(IMessageWriter):Inside AnotherType.WriteMessage\n"
     ]
    }
   ],
   "source": [
    "using System;\n",
    "\n",
    "\n",
    "public class MyBase {}\n",
    "\n",
    "\n",
    "public interface IMessageWriter {\n",
    "    void WriteMessage();\n",
    "}\n",
    "\n",
    "\n",
    "public class MyDerived: MyBase, IMessageWriter {\n",
    "    void IMessageWriter.WriteMessage() => Console.WriteLine(\"Inside MyDerived.WriteMessage\");\n",
    "}\n",
    "\n",
    "\n",
    "public class AnotherType: IMessageWriter {\n",
    "    public void WriteMessage() => Console.WriteLine(\"Inside AnotherType.WriteMessage\");\n",
    "}\n",
    "\n",
    "\n",
    "class Program {\n",
    "    static void WriteMessage(MyBase b) {\n",
    "        Console.WriteLine(\"Inside WriteMessage(MyBase)\");\n",
    "    }\n",
    "    \n",
    "    static void WriteMessage <T>(T obj) {\n",
    "        Console.Write(\"Inside WriteMessage<T>(T):\");\n",
    "    }\n",
    "    \n",
    "    static void WriteMessage(IMessageWriter obj) {\n",
    "        Console.Write(\"Inside WriteMessage(IMessageWriter):\");\n",
    "        obj.WriteMessage();\n",
    "    }\n",
    "    \n",
    "    public static void Main() {\n",
    "        MyDerived d = new MyDerived();\n",
    "        Console.WriteLine(\"Calling Program.WriteMessage\");\n",
    "        WriteMessage(d);\n",
    "        Console.WriteLine();\n",
    "        \n",
    "        Console.WriteLine(\"Calling through IMessageWriter interface\");\n",
    "        WriteMessage((IMessageWriter)d);\n",
    "        Console.WriteLine();\n",
    "        \n",
    "        Console.WriteLine(\"Cast to base object\");\n",
    "        WriteMessage((MyBase)d);\n",
    "        Console.WriteLine();\n",
    "        \n",
    "        Console.WriteLine(\"Another Type test:\");\n",
    "        AnotherType anObject = new AnotherType();\n",
    "        WriteMessage(anObject);\n",
    "        Console.WriteLine();\n",
    "        \n",
    "        Console.WriteLine(\"Cast to IMessageWriter:\");\n",
    "        WriteMessage((IMessageWriter)anObject);\n",
    "    }\n",
    "}\n",
    "\n",
    "\n",
    "Program.Main();"
   ]
  },
  {
   "cell_type": "markdown",
   "metadata": {},
   "source": [
    "rules. Generics are almost always a good match, and they wreak havoc with our assumptions about which methods get called.\n",
    "\n",
    "The first test shows one of the more important concepts to remember: WriteMessage<T>(T obj) is a better match than WriteMessage(MyBase b) for an expression whose type is derived from MyBase. MyBase. That’s because the compiler can make an exact match by substituting MyDerived for T in that message, and WriteMessage(MyBase) requires an implicit conversion. Generic methods are always perfect matches, so they win over base class methods.\n",
    "    \n",
    "The next two tests show how you can control this behavior by explicitly invoking the conversion (either to MyBase or to an IMessageWriter type)."
   ]
  },
  {
   "cell_type": "markdown",
   "metadata": {},
   "source": [
    "### Item 25: Prefer Generic Methods Unless Type Parameters Are Instance Fields"
   ]
  },
  {
   "cell_type": "code",
   "execution_count": 9,
   "metadata": {},
   "outputs": [],
   "source": [
    "public static class Utils {\n",
    "    public static T Max<T>(T left, T right) =>\n",
    "        Comparer<T>.Default.Compare(left, right) < 0 ? right : left;\n",
    "\n",
    "    public static double Max(double left, double right) =>\n",
    "        Math.Max(left, right);\n",
    "\n",
    "    public static T Min<T>(T left, T right) =>\n",
    "        Comparer<T>.Default.Compare(left, right) < 0 ? left: right;\n",
    "        \n",
    "    public static double Min(double left, double right) =>\n",
    "        Math.Min(left, right);\n",
    "}"
   ]
  },
  {
   "cell_type": "code",
   "execution_count": 11,
   "metadata": {},
   "outputs": [
    {
     "data": {
      "text/html": [
       "5"
      ]
     },
     "execution_count": 11,
     "metadata": {},
     "output_type": "execute_result"
    }
   ],
   "source": [
    "double d1 = 4;\n",
    "double d2 = 5;\n",
    "double max = Utils.Max(d1, d2);\n",
    "max"
   ]
  },
  {
   "cell_type": "code",
   "execution_count": 12,
   "metadata": {},
   "outputs": [
    {
     "data": {
      "text/html": [
       "<span>foo</span>"
      ]
     },
     "execution_count": 12,
     "metadata": {},
     "output_type": "execute_result"
    }
   ],
   "source": [
    "string foo = \"foo\";\n",
    "string bar = \"bar\";\n",
    "string sMax = Utils.Max(foo, bar);\n",
    "sMax"
   ]
  },
  {
   "cell_type": "code",
   "execution_count": 14,
   "metadata": {},
   "outputs": [
    {
     "data": {
      "text/html": [
       "12"
      ]
     },
     "execution_count": 14,
     "metadata": {},
     "output_type": "execute_result"
    }
   ],
   "source": [
    "double? d3 = 12;\n",
    "double? d4 = null;\n",
    "double? Max2 = Utils.Max(d3, d4).Value;\n",
    "Max2"
   ]
  },
  {
   "cell_type": "markdown",
   "metadata": {},
   "source": [
    "If there is a specific version of the parameter type, the compiler calls that version. If there isn’t a specific version, the compiler calls the generic version."
   ]
  },
  {
   "cell_type": "markdown",
   "metadata": {},
   "source": [
    "### Item 26: Implement Classic Interfaces in Addition to Generic Interfaces"
   ]
  },
  {
   "cell_type": "code",
   "execution_count": 2,
   "metadata": {},
   "outputs": [],
   "source": [
    "class Name : IComparable<Name>, IEquatable<Name> {\n",
    "    public string First {get; set;}\n",
    "    public string Last {get; set;}\n",
    "    public string Middle {get; set;}\n",
    "    \n",
    "    public Name(string First, string Middle, string Last) {\n",
    "        this.First = First;\n",
    "        this.Middle = Middle;\n",
    "        this.Last = Last;\n",
    "    }\n",
    "    \n",
    "    public int CompareTo(Name other) {\n",
    "        if (Object.ReferenceEquals(this, other)) {\n",
    "            return 0;\n",
    "        }\n",
    "        if (Object.ReferenceEquals(other, null)) {\n",
    "            return 1; // any non-null object > null\n",
    "        }\n",
    "        \n",
    "        int rVal = Comparer<string>.Default.Compare(Last, other.Last);\n",
    "        if (rVal != 0) {\n",
    "            return rVal;\n",
    "        } \n",
    "        \n",
    "        rVal = Comparer<string>.Default.Compare(First, other.First);\n",
    "        if (rVal != 0) {\n",
    "            return rVal;\n",
    "        }\n",
    "        \n",
    "        return Comparer<string>.Default.Compare(Middle, other.Middle);\n",
    "    }\n",
    "    \n",
    "    public bool Equals(Name other) {\n",
    "        if (Object.ReferenceEquals(this, other)) {\n",
    "            return true;\n",
    "        }\n",
    "        if (Object.ReferenceEquals(other, null)) {\n",
    "            return false;\n",
    "        }\n",
    "        \n",
    "        // Symantically equivalent to using EqualityComparer<string>.Default\n",
    "        return Last == other.Last && First == other.First && Middle == other.Middle;\n",
    "    }\n",
    "}\n"
   ]
  },
  {
   "cell_type": "code",
   "execution_count": 4,
   "metadata": {},
   "outputs": [],
   "source": [
    "var simon = new Name(\"Simon\", \"Smithy\", \"Smith\");\n",
    "var james = new Name(\"James\", \"Smithy\", \"Smith\");"
   ]
  },
  {
   "cell_type": "code",
   "execution_count": 9,
   "metadata": {},
   "outputs": [
    {
     "data": {
      "text/html": [
       "1"
      ]
     },
     "execution_count": 9,
     "metadata": {},
     "output_type": "execute_result"
    }
   ],
   "source": [
    "simon.CompareTo(james)"
   ]
  },
  {
   "cell_type": "code",
   "execution_count": 10,
   "metadata": {},
   "outputs": [
    {
     "data": {
      "text/html": [
       "-1"
      ]
     },
     "execution_count": 10,
     "metadata": {},
     "output_type": "execute_result"
    }
   ],
   "source": [
    "james.CompareTo(simon)"
   ]
  },
  {
   "cell_type": "code",
   "execution_count": 11,
   "metadata": {},
   "outputs": [
    {
     "data": {
      "text/html": [
       "0"
      ]
     },
     "execution_count": 11,
     "metadata": {},
     "output_type": "execute_result"
    }
   ],
   "source": [
    "james.CompareTo(james)"
   ]
  },
  {
   "cell_type": "markdown",
   "metadata": {},
   "source": [
    "### Item 27: Augment Minimal Interface Contracts with Extension Methods"
   ]
  },
  {
   "cell_type": "code",
   "execution_count": 19,
   "metadata": {},
   "outputs": [
    {
     "data": {
      "text/html": [
       "0"
      ]
     },
     "execution_count": 19,
     "metadata": {},
     "output_type": "execute_result"
    }
   ],
   "source": [
    "public interface IFoo {\n",
    "    int Marker {get; set;}\n",
    "}\n",
    "\n",
    "/*\n",
    "public static class FooExtensions {\n",
    "    public static void NextMarker(this IFoo thing) {\n",
    "        thing.Marker += 1;\n",
    "    }\n",
    "}\n",
    "*/\n",
    "\n",
    "public static void NextMarker(this IFoo thing) => thing.Marker += 1;\n",
    "\n",
    "\n",
    "public class MyType : IFoo {\n",
    "    public int Marker {get; set;}\n",
    "    \n",
    "    public void NextMarker() => Marker += 5;\n",
    "}\n",
    "\n",
    "\n",
    "MyType t = new MyType();\n",
    "t.Marker"
   ]
  },
  {
   "cell_type": "code",
   "execution_count": 22,
   "metadata": {},
   "outputs": [
    {
     "data": {
      "text/html": [
       "1"
      ]
     },
     "execution_count": 22,
     "metadata": {},
     "output_type": "execute_result"
    }
   ],
   "source": [
    "NextMarker(t);\n",
    "t.Marker"
   ]
  },
  {
   "cell_type": "code",
   "execution_count": 26,
   "metadata": {},
   "outputs": [],
   "source": [
    "public class MyType2 : IFoo {\n",
    "    public int Marker {get; set;}\n",
    "    public void NextMarker() => Marker += 5;\n",
    "}"
   ]
  },
  {
   "cell_type": "code",
   "execution_count": 28,
   "metadata": {},
   "outputs": [
    {
     "data": {
      "text/html": [
       "0"
      ]
     },
     "execution_count": 28,
     "metadata": {},
     "output_type": "execute_result"
    }
   ],
   "source": [
    "MyType2 t2 = new MyType2();\n",
    "t2.Marker"
   ]
  },
  {
   "cell_type": "code",
   "execution_count": 29,
   "metadata": {},
   "outputs": [
    {
     "data": {
      "text/html": [
       "1"
      ]
     },
     "execution_count": 29,
     "metadata": {},
     "output_type": "execute_result"
    }
   ],
   "source": [
    "NextMarker(t2);\n",
    "t2.Marker"
   ]
  },
  {
   "cell_type": "code",
   "execution_count": 30,
   "metadata": {},
   "outputs": [
    {
     "data": {
      "text/html": [
       "6"
      ]
     },
     "execution_count": 30,
     "metadata": {},
     "output_type": "execute_result"
    }
   ],
   "source": [
    "t2.NextMarker();\n",
    "t2.Marker"
   ]
  },
  {
   "cell_type": "markdown",
   "metadata": {},
   "source": [
    "### Item 28: Consider Enhancing Constructed Types with Extension Methods"
   ]
  },
  {
   "cell_type": "markdown",
   "metadata": {},
   "source": [
    "***"
   ]
  }
 ],
 "metadata": {
  "kernelspec": {
   "display_name": ".NET (C#)",
   "language": "C#",
   "name": ".net-csharp"
  },
  "language_info": {
   "file_extension": ".cs",
   "mimetype": "text/x-csharp",
   "name": "C#",
   "pygments_lexer": "csharp",
   "version": "8.0"
  }
 },
 "nbformat": 4,
 "nbformat_minor": 2
}
