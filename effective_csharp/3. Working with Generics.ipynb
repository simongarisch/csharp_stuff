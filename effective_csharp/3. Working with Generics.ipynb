{
 "cells": [
  {
   "cell_type": "markdown",
   "metadata": {},
   "source": [
    "## 3. Working with Generics\n",
    "Generics allow you to define the specification of the data type of programming elements in a class or a method, until it is actually used in the program. In other words, generics allow you to write a class or method that can work with any data type."
   ]
  },
  {
   "cell_type": "code",
   "execution_count": 4,
   "metadata": {},
   "outputs": [
    {
     "name": "stdout",
     "output_type": "stream",
     "text": [
      "0 5 10 15 20 \n",
      "a b c d e \n"
     ]
    }
   ],
   "source": [
    "public class MyGenericArray<T> {\n",
    "    private T[] array;\n",
    "      \n",
    "    public MyGenericArray(int size) {\n",
    "        array = new T[size + 1];\n",
    "    }\n",
    "\n",
    "    public T getItem(int index) {\n",
    "        return array[index];\n",
    "    }\n",
    "    \n",
    "    public void setItem(int index, T value) {\n",
    "        array[index] = value;\n",
    "    }\n",
    "}\n",
    "\n",
    "\n",
    "class Tester {\n",
    "    public static void Main() {\n",
    "        int len = 5;\n",
    "\n",
    "        //declaring an int array\n",
    "        MyGenericArray<int> intArray = new MyGenericArray<int>(len);\n",
    "         \n",
    "        //setting values\n",
    "        for (int c = 0; c < len; c++) {\n",
    "            intArray.setItem(c, c*5);\n",
    "        }\n",
    "         \n",
    "        //retrieving the values\n",
    "        for (int c = 0; c < len; c++) {\n",
    "            Console.Write(intArray.getItem(c) + \" \");\n",
    "        }\n",
    "        Console.WriteLine();\n",
    "         \n",
    "        //declaring a character array\n",
    "        MyGenericArray<char> charArray = new MyGenericArray<char>(len);\n",
    "         \n",
    "        //setting values\n",
    "        for (int c = 0; c < 5; c++) {\n",
    "            charArray.setItem(c, (char)(c+97));\n",
    "        }\n",
    "         \n",
    "        //retrieving the values\n",
    "        for (int c = 0; c< 5; c++) {\n",
    "            Console.Write(charArray.getItem(c) + \" \");\n",
    "        }\n",
    "        Console.WriteLine();\n",
    "    }\n",
    "}\n",
    "\n",
    "\n",
    "Tester.Main();"
   ]
  },
  {
   "cell_type": "markdown",
   "metadata": {},
   "source": [
    "Some articles and papers might lead you to believe that generics are useful only in the context of collections. That’s not true. There are many other ways to use generics. You can use them to create interfaces, event handlers, common algorithms, and more."
   ]
  },
  {
   "cell_type": "markdown",
   "metadata": {},
   "source": [
    "### Item 18: Always Define Constraints That Are Minimal and Sufficient"
   ]
  },
  {
   "cell_type": "markdown",
   "metadata": {},
   "source": [
    "### Item 19: Specialize Generic Algorithms Using Runtime Type Checking"
   ]
  },
  {
   "cell_type": "markdown",
   "metadata": {},
   "source": [
    "### Item 20: Implement Ordering Relations with IComparable<T> and IComparer<T>\n"
   ]
  },
  {
   "cell_type": "code",
   "execution_count": 10,
   "metadata": {},
   "outputs": [],
   "source": [
    "public struct Customer : IComparable<Customer>, IComparable {\n",
    "    public readonly string name;\n",
    "    \n",
    "    public Customer(string name) {\n",
    "        this.name = name;\n",
    "    }\n",
    "    \n",
    "    // IComparable<Customer> Members\n",
    "    public int CompareTo(Customer other) => name.CompareTo(other.name);\n",
    "    \n",
    "    // IComparable Members\n",
    "    int IComparable.CompareTo(object obj) {\n",
    "        if (!(obj is Customer)) {\n",
    "            throw new ArgumentException(\"Argument is not a Customer\", \"obj\");\n",
    "        }\n",
    "        Customer otherCustomer = (Customer)obj;\n",
    "        return this.CompareTo(otherCustomer);\n",
    "    }\n",
    "}\n"
   ]
  },
  {
   "cell_type": "code",
   "execution_count": 12,
   "metadata": {},
   "outputs": [
    {
     "name": "stdout",
     "output_type": "stream",
     "text": [
      "Jake\n",
      "James\n",
      "Simon\n"
     ]
    }
   ],
   "source": [
    "List<Customer> customers = new List<Customer>(); \n",
    "customers.Add(new Customer(\"Simon\"));\n",
    "customers.Add(new Customer(\"Jake\"));\n",
    "customers.Add(new Customer(\"James\"));\n",
    "\n",
    "customers.Sort();\n",
    "foreach(var customer in customers) {\n",
    "    Console.WriteLine(customer.name);\n",
    "}"
   ]
  },
  {
   "cell_type": "markdown",
   "metadata": {},
   "source": [
    "There’s just too much to dislike about the classic version of IComparable. You’ve got to check the runtime type of the argument. Incorrect code could legally call this method with anything as the argument to the CompareTo method. More so, proper arguments must be boxed and unboxed to provide the actual comparison. That’s an extra runtime expense for each compare.\n",
    "\n",
    "Adding operators to this code..."
   ]
  },
  {
   "cell_type": "code",
   "execution_count": 13,
   "metadata": {},
   "outputs": [],
   "source": [
    "public struct Customer : IComparable<Customer>, IComparable {\n",
    "    public readonly string name;\n",
    "    \n",
    "    public Customer(string name) {\n",
    "        this.name = name;\n",
    "    }\n",
    "    \n",
    "    // IComparable<Customer> Members\n",
    "    public int CompareTo(Customer other) => name.CompareTo(other.name);\n",
    "    \n",
    "    // IComparable Members\n",
    "    int IComparable.CompareTo(object obj) {\n",
    "        if (!(obj is Customer)) {\n",
    "            throw new ArgumentException(\"Argument is not a Customer\", \"obj\");\n",
    "        }\n",
    "        Customer otherCustomer = (Customer)obj;\n",
    "        return this.CompareTo(otherCustomer);\n",
    "    }\n",
    "    \n",
    "    public static bool operator < (Customer left, Customer right) => left.CompareTo(right) < 0;\n",
    "    \n",
    "    public static bool operator <= (Customer left, Customer right) => left.CompareTo(right) <= 0;\n",
    "    \n",
    "    public static bool operator > (Customer left, Customer right) => left.CompareTo(right) > 0;\n",
    "    \n",
    "    public static bool operator >= (Customer left, Customer right) => left.CompareTo(right) >= 0;\n",
    "}"
   ]
  },
  {
   "cell_type": "code",
   "execution_count": 14,
   "metadata": {},
   "outputs": [],
   "source": [
    "var simon = new Customer(\"Simon\");\n",
    "var james = new Customer(\"James\");"
   ]
  },
  {
   "cell_type": "code",
   "execution_count": 18,
   "metadata": {},
   "outputs": [
    {
     "data": {
      "text/html": [
       "True"
      ]
     },
     "execution_count": 18,
     "metadata": {},
     "output_type": "execute_result"
    }
   ],
   "source": [
    "simon > james"
   ]
  },
  {
   "cell_type": "code",
   "execution_count": 19,
   "metadata": {},
   "outputs": [
    {
     "data": {
      "text/html": [
       "True"
      ]
     },
     "execution_count": 19,
     "metadata": {},
     "output_type": "execute_result"
    }
   ],
   "source": [
    "simon >= james"
   ]
  },
  {
   "cell_type": "code",
   "execution_count": 16,
   "metadata": {},
   "outputs": [
    {
     "data": {
      "text/html": [
       "False"
      ]
     },
     "execution_count": 16,
     "metadata": {},
     "output_type": "execute_result"
    }
   ],
   "source": [
    "simon < james"
   ]
  },
  {
   "cell_type": "code",
   "execution_count": 20,
   "metadata": {},
   "outputs": [
    {
     "data": {
      "text/html": [
       "False"
      ]
     },
     "execution_count": 20,
     "metadata": {},
     "output_type": "execute_result"
    }
   ],
   "source": [
    "simon <= james"
   ]
  },
  {
   "cell_type": "markdown",
   "metadata": {},
   "source": [
    "### Item 21: Always Create Generic Classes That Support Disposable Type Parameters"
   ]
  },
  {
   "cell_type": "code",
   "execution_count": 21,
   "metadata": {},
   "outputs": [],
   "source": [
    "public interface IEngine {\n",
    "    void DoWork();\n",
    "}\n",
    "\n",
    "public class EngineDriverOne<T> where T: IEngine, new() {\n",
    "    public void GetThingsDone() {\n",
    "        T driver = new T();\n",
    "        driver.DoWork();\n",
    "    }\n",
    "}"
   ]
  },
  {
   "cell_type": "markdown",
   "metadata": {},
   "source": [
    "You may have introduced a resource leak if T implements IDisposable. In every case where you create a local variable of type T, you need to check whether T implements IDisposable and, if so, dispose of it correctly."
   ]
  },
  {
   "cell_type": "code",
   "execution_count": 22,
   "metadata": {},
   "outputs": [],
   "source": [
    "public class EngineDriverOne<T> where T: IEngine, new() {\n",
    "    public void GetThingsDone() {\n",
    "        T driver = new T();\n",
    "        using (driver as IDisposable) {\n",
    "            driver.DoWork();\n",
    "        }\n",
    "    }\n",
    "}"
   ]
  },
  {
   "cell_type": "markdown",
   "metadata": {},
   "source": [
    "If T does not implement IDisposable, then the value of this local variable is null. In those cases, the compiler does not call Dispose(), because it checks against null before doing this extra work."
   ]
  },
  {
   "cell_type": "markdown",
   "metadata": {},
   "source": [
    "### Item 22: Support Generic Covariance and Contravariance"
   ]
  },
  {
   "cell_type": "code",
   "execution_count": null,
   "metadata": {},
   "outputs": [],
   "source": []
  }
 ],
 "metadata": {
  "kernelspec": {
   "display_name": ".NET (C#)",
   "language": "C#",
   "name": ".net-csharp"
  },
  "language_info": {
   "file_extension": ".cs",
   "mimetype": "text/x-csharp",
   "name": "C#",
   "pygments_lexer": "csharp",
   "version": "8.0"
  }
 },
 "nbformat": 4,
 "nbformat_minor": 2
}
