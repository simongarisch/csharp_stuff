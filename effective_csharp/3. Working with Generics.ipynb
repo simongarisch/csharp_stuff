{
 "cells": [
  {
   "cell_type": "markdown",
   "metadata": {},
   "source": [
    "## 3. Working with Generics\n",
    "Generics allow you to define the specification of the data type of programming elements in a class or a method, until it is actually used in the program. In other words, generics allow you to write a class or method that can work with any data type."
   ]
  },
  {
   "cell_type": "code",
   "execution_count": 4,
   "metadata": {},
   "outputs": [
    {
     "name": "stdout",
     "output_type": "stream",
     "text": [
      "0 5 10 15 20 \n",
      "a b c d e \n"
     ]
    }
   ],
   "source": [
    "public class MyGenericArray<T> {\n",
    "    private T[] array;\n",
    "      \n",
    "    public MyGenericArray(int size) {\n",
    "        array = new T[size + 1];\n",
    "    }\n",
    "\n",
    "    public T getItem(int index) {\n",
    "        return array[index];\n",
    "    }\n",
    "    \n",
    "    public void setItem(int index, T value) {\n",
    "        array[index] = value;\n",
    "    }\n",
    "}\n",
    "\n",
    "\n",
    "class Tester {\n",
    "    public static void Main() {\n",
    "        int len = 5;\n",
    "\n",
    "        //declaring an int array\n",
    "        MyGenericArray<int> intArray = new MyGenericArray<int>(len);\n",
    "         \n",
    "        //setting values\n",
    "        for (int c = 0; c < len; c++) {\n",
    "            intArray.setItem(c, c*5);\n",
    "        }\n",
    "         \n",
    "        //retrieving the values\n",
    "        for (int c = 0; c < len; c++) {\n",
    "            Console.Write(intArray.getItem(c) + \" \");\n",
    "        }\n",
    "        Console.WriteLine();\n",
    "         \n",
    "        //declaring a character array\n",
    "        MyGenericArray<char> charArray = new MyGenericArray<char>(len);\n",
    "         \n",
    "        //setting values\n",
    "        for (int c = 0; c < 5; c++) {\n",
    "            charArray.setItem(c, (char)(c+97));\n",
    "        }\n",
    "         \n",
    "        //retrieving the values\n",
    "        for (int c = 0; c< 5; c++) {\n",
    "            Console.Write(charArray.getItem(c) + \" \");\n",
    "        }\n",
    "        Console.WriteLine();\n",
    "    }\n",
    "}\n",
    "\n",
    "\n",
    "Tester.Main();"
   ]
  },
  {
   "cell_type": "markdown",
   "metadata": {},
   "source": [
    "Some articles and papers might lead you to believe that generics are useful only in the context of collections. That’s not true. There are many other ways to use generics. You can use them to create interfaces, event handlers, common algorithms, and more."
   ]
  },
  {
   "cell_type": "markdown",
   "metadata": {},
   "source": [
    "### Item 18: Always Define Constraints That Are Minimal and Sufficient"
   ]
  },
  {
   "cell_type": "markdown",
   "metadata": {},
   "source": [
    "### Item 19: Specialize Generic Algorithms Using Runtime Type Checking"
   ]
  },
  {
   "cell_type": "code",
   "execution_count": null,
   "metadata": {},
   "outputs": [],
   "source": []
  }
 ],
 "metadata": {
  "kernelspec": {
   "display_name": ".NET (C#)",
   "language": "C#",
   "name": ".net-csharp"
  },
  "language_info": {
   "file_extension": ".cs",
   "mimetype": "text/x-csharp",
   "name": "C#",
   "pygments_lexer": "csharp",
   "version": "8.0"
  }
 },
 "nbformat": 4,
 "nbformat_minor": 2
}
