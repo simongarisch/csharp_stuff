{
 "cells": [
  {
   "cell_type": "markdown",
   "metadata": {},
   "source": [
    "## 1. C# Language Idioms\n",
    "The C# language has evolved since its first commercial release in 2001. It’s now much farther removed from C++ or Java than it was in its original release."
   ]
  },
  {
   "cell_type": "markdown",
   "metadata": {},
   "source": [
    "### Item 1: Prefer Implicitly Typed Local Variables\n",
    "I prefer var and use it to declare many local variables because I find that it focuses the developer’s attention on the important part (the semantic meaning) and not on the particulars of a variable’s type. The compiler still warns me if I have created any construct that doesn’t type-check."
   ]
  },
  {
   "cell_type": "code",
   "execution_count": 6,
   "metadata": {},
   "outputs": [],
   "source": [
    "class MyClass {}\n",
    "\n",
    "MyClass obj1 = new MyClass();\n",
    "var obj2 = new MyClass();"
   ]
  },
  {
   "cell_type": "code",
   "execution_count": 10,
   "metadata": {},
   "outputs": [
    {
     "name": "stdout",
     "output_type": "stream",
     "text": [
      "MyClass\r\n"
     ]
    }
   ],
   "source": [
    "Console.WriteLine(obj1.GetType().Name);"
   ]
  },
  {
   "cell_type": "code",
   "execution_count": 9,
   "metadata": {},
   "outputs": [
    {
     "name": "stdout",
     "output_type": "stream",
     "text": [
      "MyClass\r\n"
     ]
    }
   ],
   "source": [
    "Console.WriteLine(obj2.GetType().Name);"
   ]
  },
  {
   "cell_type": "markdown",
   "metadata": {},
   "source": [
    "Sometimes using var and not knowing the return type of some function can make things confusing when reading the code."
   ]
  },
  {
   "cell_type": "code",
   "execution_count": 12,
   "metadata": {},
   "outputs": [
    {
     "name": "stdout",
     "output_type": "stream",
     "text": [
      "1\n",
      "Double\n"
     ]
    }
   ],
   "source": [
    "class GuessWho {\n",
    "    public static double GetMagicNumber() {\n",
    "        return 1.0;\n",
    "    }\n",
    "}\n",
    "\n",
    "var num = GuessWho.GetMagicNumber(); // hmmm, int, float, double???\n",
    "Console.WriteLine(num);\n",
    "Console.WriteLine(num.GetType().Name);"
   ]
  },
  {
   "cell_type": "markdown",
   "metadata": {},
   "source": [
    "At other times you can shoot yourself in the foot by being type explicit in variable declarations.\n",
    "\n",
    "For example, [IQueryable<T>](https://docs.microsoft.com/en-us/dotnet/api/system.linq.iqueryable?view=net-5.0) derives from [IEnumerable<T>](https://docs.microsoft.com/en-us/dotnet/api/system.collections.ienumerable?view=net-5.0). In the below example the second query does not call Queryable.Where; instead, it calls Enumerable.Where. That has a large negative implication for performance."
   ]
  },
  {
   "cell_type": "code",
   "execution_count": 46,
   "metadata": {},
   "outputs": [
    {
     "name": "stdout",
     "output_type": "stream",
     "text": [
      "Jane\n",
      "Jim\n",
      "WhereEnumerableIterator`1\n",
      "Jane\n",
      "Jim\n",
      "EnumerableQuery`1\n"
     ]
    }
   ],
   "source": [
    "using System;\n",
    "using System.Collections.Generic;\n",
    "\n",
    "\n",
    "class Customer {\n",
    "    public readonly String ContactName;\n",
    "    \n",
    "    public Customer(String ContactName) {\n",
    "        this.ContactName = ContactName;\n",
    "    } \n",
    "}\n",
    "\n",
    "\n",
    "class DB {\n",
    "    public IQueryable<Customer> Customers;\n",
    "    \n",
    "    public DB() {\n",
    "        List<Customer> list = new List<Customer>();\n",
    "        list.Add(new Customer(\"Bob\"));\n",
    "        list.Add(new Customer(\"Jane\"));\n",
    "        list.Add(new Customer(\"Jim\"));        \n",
    "        this.Customers = list.AsQueryable();\n",
    "    }\n",
    "}\n",
    "\n",
    "\n",
    "class BadlyTypedQuery {\n",
    "    private DB db;\n",
    "    \n",
    "    public BadlyTypedQuery() {\n",
    "        this.db = new DB();\n",
    "    }\n",
    "\n",
    "    public IEnumerable<string> FindCustomersStartingWith1(String start) {\n",
    "        IEnumerable<string> q = \n",
    "            from c in db.Customers\n",
    "            select c.ContactName;\n",
    "        \n",
    "        var q2 = q.Where(s => s.StartsWith(start));\n",
    "        return q2;\n",
    "    }\n",
    "    \n",
    "    // Same method, but different return type.\n",
    "    public IQueryable<string> FindCustomersStartingWith2(String start) {\n",
    "        var q = from c in db.Customers select c.ContactName;\n",
    "        var q2 = q.Where(s => s.StartsWith(start));\n",
    "        return q2;\n",
    "    }\n",
    "}\n",
    "\n",
    "\n",
    "var query = new BadlyTypedQuery();\n",
    "\n",
    "var result1 = query.FindCustomersStartingWith1(\"J\");\n",
    "foreach(String item in result1) {\n",
    "    Console.WriteLine(item);\n",
    "}\n",
    "Console.WriteLine(result1.GetType().Name);\n",
    "// Jane, Jim\n",
    "// WhereEnumerableIterator`1\n",
    "\n",
    "\n",
    "var result2 = query.FindCustomersStartingWith2(\"J\");\n",
    "foreach(String item in result2) {\n",
    "    Console.WriteLine(item);\n",
    "}\n",
    "Console.WriteLine(result2.GetType().Name);\n",
    "// Jane, Jim\n",
    "// EnumerableQuery`1"
   ]
  },
  {
   "cell_type": "markdown",
   "metadata": {},
   "source": [
    "You, the developer, must decide whether letting the compiler silently declare the compile-time type of the variable harms readability. If not being able to immediately see the exact type of a local variable creates ambiguity when someone reads the code, it’s best to declare that type explicitly. However, in many cases, the code clearly conveys the semantic information about the variable."
   ]
  },
  {
   "cell_type": "markdown",
   "metadata": {},
   "source": [
    "### Item 2: Prefer readonly to const\n",
    "You declare runtime constants with the readonly keyword. Compile-time constants are declared with the const keyword. Compile-time constants are slightly faster, but far less flexible."
   ]
  },
  {
   "cell_type": "code",
   "execution_count": 49,
   "metadata": {},
   "outputs": [
    {
     "name": "stdout",
     "output_type": "stream",
     "text": [
      "2000\n",
      "2021\n"
     ]
    }
   ],
   "source": [
    "// Complile-time constant\n",
    "const int Millennium = 2000;\n",
    "\n",
    "// Runtime constant\n",
    "static readonly int ThisYear = 2021;\n",
    "\n",
    "Console.WriteLine(Millennium);\n",
    "Console.WriteLine(ThisYear);"
   ]
  },
  {
   "cell_type": "code",
   "execution_count": 50,
   "metadata": {},
   "outputs": [
    {
     "name": "stdout",
     "output_type": "stream",
     "text": [
      "Int32\r\n"
     ]
    }
   ],
   "source": [
    "Console.WriteLine(Millennium.GetType().Name);"
   ]
  },
  {
   "cell_type": "code",
   "execution_count": 51,
   "metadata": {},
   "outputs": [
    {
     "name": "stdout",
     "output_type": "stream",
     "text": [
      "Int32\r\n"
     ]
    }
   ],
   "source": [
    "Console.WriteLine(ThisYear.GetType().Name);"
   ]
  },
  {
   "cell_type": "markdown",
   "metadata": {},
   "source": [
    "A compile-time constant is replaced with the value of that constant in your object code. This distinction places several restrictions on when you are allowed to use either type of constant. Compile-time constants can be used only for the built-in integral and floating-point types, enums, or strings.\n",
    "\n",
    "Read-only values are also constants in that they cannot be modified after the constructor has executed. But read-only values are different in that they are assigned at runtime. You have much more flexibility when working with runtime constants. For one thing, runtime constants can be any type."
   ]
  },
  {
   "cell_type": "code",
   "execution_count": 52,
   "metadata": {},
   "outputs": [],
   "source": [
    "class ReadOnlyExample {\n",
    "    public readonly int num;\n",
    "    \n",
    "    public ReadOnlyExample() {\n",
    "        this.num= 7;\n",
    "    }\n",
    "}\n",
    "\n",
    "var roe = new ReadOnlyExample();"
   ]
  },
  {
   "cell_type": "code",
   "execution_count": 54,
   "metadata": {},
   "outputs": [
    {
     "data": {
      "text/html": [
       "7"
      ]
     },
     "execution_count": 54,
     "metadata": {},
     "output_type": "execute_result"
    }
   ],
   "source": [
    "roe.num"
   ]
  },
  {
   "cell_type": "code",
   "execution_count": 57,
   "metadata": {},
   "outputs": [
    {
     "ename": "Unhandled exception",
     "evalue": "(1,1): error CS0191: A readonly field cannot be assigned to (except in a constructor or a variable initializer)",
     "output_type": "error",
     "traceback": [
      "(1,1): error CS0191: A readonly field cannot be assigned to (except in a constructor or a variable initializer)"
     ]
    }
   ],
   "source": [
    "roe.num = 8; // not after the constructor has run"
   ]
  },
  {
   "cell_type": "markdown",
   "metadata": {},
   "source": [
    "### Item 3: Prefer the is or as Operators to Casts\n",
    "The correct choice is to use the as operator whenever you can because it is safer than blindly casting and is more efficient at runtime."
   ]
  },
  {
   "cell_type": "code",
   "execution_count": 61,
   "metadata": {},
   "outputs": [
    {
     "name": "stdout",
     "output_type": "stream",
     "text": [
      "Success casting MyType\r\n"
     ]
    }
   ],
   "source": [
    "// one way to do it\n",
    "class MyType {}\n",
    "class NotMyType {}\n",
    "\n",
    "class Factory {\n",
    "    public static MyType GetObject() {\n",
    "        return new MyType();\n",
    "    }\n",
    "}\n",
    "\n",
    "object obj = Factory.GetObject();\n",
    "MyType mt = obj as MyType;\n",
    "if (mt != null) {\n",
    "    Console.WriteLine(\"Success casting \" + mt.GetType().Name);\n",
    "} else {\n",
    "    Console.WriteLine(\"No luck in casting obj!\");\n",
    "}"
   ]
  },
  {
   "cell_type": "code",
   "execution_count": 63,
   "metadata": {},
   "outputs": [
    {
     "name": "stdout",
     "output_type": "stream",
     "text": [
      "No luck in casting obj!\r\n"
     ]
    }
   ],
   "source": [
    "object obj = new NotMyType();\n",
    "MyType mt = obj as MyType;\n",
    "if (mt != null) {\n",
    "    Console.WriteLine(\"Success casting \" + mt.GetType().Name);\n",
    "} else {\n",
    "    Console.WriteLine(\"No luck in casting obj!\");\n",
    "}"
   ]
  },
  {
   "cell_type": "code",
   "execution_count": 64,
   "metadata": {},
   "outputs": [
    {
     "name": "stdout",
     "output_type": "stream",
     "text": [
      "Success casting MyType\r\n"
     ]
    }
   ],
   "source": [
    "// another way to cast\n",
    "object obj = Factory.GetObject();\n",
    "try {\n",
    "    MyType mt;\n",
    "    mt = (MyType)obj;\n",
    "    Console.WriteLine(\"Success casting \" + mt.GetType().Name);\n",
    "} catch (InvalidCastException) {\n",
    "    Console.WriteLine(\"No luck in casting obj!\");\n",
    "}"
   ]
  },
  {
   "cell_type": "markdown",
   "metadata": {},
   "source": [
    "You’ll agree that the first version is simpler and easier to read. It does not have the try/catch clause, so you avoid both the overhead and the code. Notice that the cast version must check null in addition to catching exceptions.\n",
    "\n",
    "as and is operators examine the runtime type of the object being converted; they do not perform any other operations, except boxing when necessary. If a particular object is not the requested type or is derived from the requested type, they fail. Casts, on the other hand, can use conversion operators to convert an object to the requested type. This includes any built-in numeric conversions. Casting a long to a short can lose information."
   ]
  },
  {
   "cell_type": "code",
   "execution_count": 73,
   "metadata": {},
   "outputs": [
    {
     "name": "stdout",
     "output_type": "stream",
     "text": [
      "Conversion failed!\r\n"
     ]
    }
   ],
   "source": [
    "// version one\n",
    "class SecondType {\n",
    "    private MyType _value;\n",
    "    \n",
    "    public static implicit operator MyType(SecondType t) {\n",
    "        return t._value;\n",
    "    }\n",
    "}\n",
    "\n",
    "\n",
    "class Factory {\n",
    "    public static SecondType GetObject() {\n",
    "        return new SecondType();\n",
    "    }\n",
    "}\n",
    "\n",
    "\n",
    "object obj = Factory.GetObject(); // obj is a SecondType\n",
    "MyType mt = obj as MyType; // Fails\n",
    "if (mt != null) {\n",
    "    Console.WriteLine(\"Conversion success...\");\n",
    "} else {\n",
    "    Console.WriteLine(\"Conversion failed!\");\n",
    "}"
   ]
  },
  {
   "cell_type": "code",
   "execution_count": 75,
   "metadata": {},
   "outputs": [
    {
     "name": "stdout",
     "output_type": "stream",
     "text": [
      "Conversion failed!\r\n"
     ]
    }
   ],
   "source": [
    "// version two\n",
    "try {\n",
    "    MyType mt;\n",
    "    mt = (MyType)obj; // Fails\n",
    "    Console.WriteLine(\"Conversion success...\");\n",
    "} catch (InvalidCastException) {\n",
    "    Console.WriteLine(\"Conversion failed!\");\n",
    "}"
   ]
  },
  {
   "cell_type": "markdown",
   "metadata": {},
   "source": [
    "Both versions fail. It fails because your compiler is generating code based on the compile-time type of the object, o. The compiler knows nothing about the runtime type of o; it views o as an instance of object."
   ]
  },
  {
   "cell_type": "markdown",
   "metadata": {},
   "source": [
    "The foreach statement needs to use casts to support both value types and reference types. By choosing the cast operator, the foreach statement exhibits the same behavior, no matter what the destination type is. However, because a cast is used, foreach loops can cause an InvalidCastException to be thrown."
   ]
  },
  {
   "cell_type": "code",
   "execution_count": 91,
   "metadata": {},
   "outputs": [
    {
     "name": "stdout",
     "output_type": "stream",
     "text": [
      "1 Int32\n",
      "2 Int32\n",
      "3 Int32\n"
     ]
    },
    {
     "ename": "Unhandled exception",
     "evalue": "System.InvalidCastException: Unable to cast object of type 'System.String' to type 'System.Int32'.\r\n   at Submission#94.<<Initialize>>d__0.MoveNext()\r\n--- End of stack trace from previous location where exception was thrown ---\r\n   at Microsoft.CodeAnalysis.Scripting.ScriptExecutionState.RunSubmissionsAsync[TResult](ImmutableArray`1 precedingExecutors, Func`2 currentExecutor, StrongBox`1 exceptionHolderOpt, Func`2 catchExceptionOpt, CancellationToken cancellationToken)",
     "output_type": "error",
     "traceback": [
      "System.InvalidCastException: Unable to cast object of type 'System.String' to type 'System.Int32'.\r\n   at Submission#94.<<Initialize>>d__0.MoveNext()\r\n--- End of stack trace from previous location where exception was thrown ---\r\n   at Microsoft.CodeAnalysis.Scripting.ScriptExecutionState.RunSubmissionsAsync[TResult](ImmutableArray`1 precedingExecutors, Func`2 currentExecutor, StrongBox`1 exceptionHolderOpt, Func`2 catchExceptionOpt, CancellationToken cancellationToken)",
      "   at Submission#94.<<Initialize>>d__0.MoveNext()",
      "--- End of stack trace from previous location where exception was thrown ---",
      "   at Microsoft.CodeAnalysis.Scripting.ScriptExecutionState.RunSubmissionsAsync[TResult](ImmutableArray`1 precedingExecutors, Func`2 currentExecutor, StrongBox`1 exceptionHolderOpt, Func`2 catchExceptionOpt, CancellationToken cancellationToken)"
     ]
    }
   ],
   "source": [
    "List<object> objects = new List<object>();\n",
    "objects.Add(1);\n",
    "objects.Add(2);\n",
    "objects.Add(3);\n",
    "objects.Add(\"4\");\n",
    "\n",
    "foreach(int i in objects) {\n",
    "    Console.WriteLine(i.ToString() + \" \" + i.GetType().Name);\n",
    "}"
   ]
  },
  {
   "cell_type": "code",
   "execution_count": 97,
   "metadata": {},
   "outputs": [
    {
     "name": "stdout",
     "output_type": "stream",
     "text": [
      "1 Int32\n",
      "2 Int32\n",
      "3 Int32\n",
      "Unable to cast String to int -> 4\n"
     ]
    }
   ],
   "source": [
    "// to get around this...\n",
    "foreach(object obj in objects) {\n",
    "    try {\n",
    "        int i;\n",
    "        i = (int)obj;\n",
    "        Console.WriteLine(i + \" \" + i.GetType().Name);\n",
    "    } catch (InvalidCastException) {\n",
    "        Console.WriteLine(\"Unable to cast \" + obj.GetType().Name + \" to int -> \" + obj);\n",
    "    }\n",
    "}"
   ]
  },
  {
   "cell_type": "markdown",
   "metadata": {},
   "source": [
    "### Item 4: Replace string.Format() with [Interpolated Strings](https://docs.microsoft.com/en-us/dotnet/csharp/language-reference/tokens/interpolated)"
   ]
  },
  {
   "cell_type": "code",
   "execution_count": 1,
   "metadata": {},
   "outputs": [
    {
     "name": "stdout",
     "output_type": "stream",
     "text": [
      "The value of pi is 3.141592653589793\r\n"
     ]
    }
   ],
   "source": [
    "Console.WriteLine($\"The value of pi is {Math.PI}\");"
   ]
  },
  {
   "cell_type": "code",
   "execution_count": 2,
   "metadata": {},
   "outputs": [
    {
     "name": "stdout",
     "output_type": "stream",
     "text": [
      "The value of pi is 3.141592653589793\r\n"
     ]
    }
   ],
   "source": [
    "Console.WriteLine($\"The value of pi is {Math.PI.ToString()}\");"
   ]
  },
  {
   "cell_type": "code",
   "execution_count": 3,
   "metadata": {},
   "outputs": [
    {
     "name": "stdout",
     "output_type": "stream",
     "text": [
      "The value of pi is 3.14\r\n"
     ]
    }
   ],
   "source": [
    "Console.WriteLine($\"The value of pi is {Math.PI.ToString(\"F2\")}\");"
   ]
  },
  {
   "cell_type": "code",
   "execution_count": 4,
   "metadata": {},
   "outputs": [
    {
     "name": "stdout",
     "output_type": "stream",
     "text": [
      "The value of pi is 3.14\r\n"
     ]
    }
   ],
   "source": [
    "Console.WriteLine($\"The value of pi is {Math.PI:F2}\")"
   ]
  },
  {
   "cell_type": "markdown",
   "metadata": {},
   "source": [
    "### Item 5: Prefer [FormattableString](https://docs.microsoft.com/en-us/dotnet/api/system.formattablestring?view=net-5.0) for Culture-Specific Strings"
   ]
  },
  {
   "cell_type": "code",
   "execution_count": 8,
   "metadata": {},
   "outputs": [
    {
     "name": "stdout",
     "output_type": "stream",
     "text": [
      "It's the 18 of the 5 month\r\n"
     ]
    }
   ],
   "source": [
    "String first = $\"It's the {DateTime.Now.Day} of the {DateTime.Now.Month} month\";\n",
    "Console.WriteLine(first);"
   ]
  },
  {
   "cell_type": "code",
   "execution_count": 9,
   "metadata": {},
   "outputs": [
    {
     "name": "stdout",
     "output_type": "stream",
     "text": [
      "It's the 18 of the 5 month\r\n"
     ]
    }
   ],
   "source": [
    "FormattableString second = $\"It's the {DateTime.Now.Day} of the {DateTime.Now.Month} month\";\n",
    "Console.WriteLine(second);"
   ]
  },
  {
   "cell_type": "code",
   "execution_count": 10,
   "metadata": {},
   "outputs": [
    {
     "name": "stdout",
     "output_type": "stream",
     "text": [
      "It’s the 18 of the 5 month\r\n"
     ]
    }
   ],
   "source": [
    "var third = $\"It’s the {DateTime.Now.Day} of the {DateTime.Now.Month} month\";\n",
    "Console.WriteLine(third);"
   ]
  },
  {
   "cell_type": "code",
   "execution_count": 11,
   "metadata": {},
   "outputs": [],
   "source": [
    "class CultureSpecificStringsExample {\n",
    "\n",
    "    public static string ToGerman(FormattableString src) {\n",
    "        return string.Format(\n",
    "            null,\n",
    "            System.Globalization.CultureInfo.CreateSpecificCulture(\"de-de\"),\n",
    "            src.Format,\n",
    "            src.GetArguments()\n",
    "        );\n",
    "    }\n",
    "\n",
    "    public static string ToFrenchCanada(FormattableString src) {\n",
    "        return string.Format(\n",
    "            null,\n",
    "            System.Globalization.CultureInfo.CreateSpecificCulture(\"de-CA\"),\n",
    "            src.Format,\n",
    "            src.GetArguments()\n",
    "        );\n",
    "    }\n",
    "}"
   ]
  },
  {
   "cell_type": "markdown",
   "metadata": {},
   "source": [
    "If you run the code in the United States, the decimal separator for a double value will be \".\"; if you ran the same code in most European countries, the decimal separator would be \",\"."
   ]
  },
  {
   "cell_type": "markdown",
   "metadata": {},
   "source": [
    "### Item 6: Avoid String-ly Typed APIs"
   ]
  },
  {
   "cell_type": "markdown",
   "metadata": {},
   "source": [
    "### Item 7: Express Callbacks with Delegates\n",
    "A delegate is a reference type. But instead of referring to an object, a delegate refers to a method."
   ]
  },
  {
   "cell_type": "code",
   "execution_count": 26,
   "metadata": {},
   "outputs": [
    {
     "name": "stdout",
     "output_type": "stream",
     "text": [
      "1\n",
      "3\n",
      "5\n",
      "7\n",
      "9\n"
     ]
    }
   ],
   "source": [
    "List<int> numbers = Enumerable.Range(1, 10).ToList();\n",
    "numbers.RemoveAll(n => n % 2 == 0);\n",
    "numbers.ForEach(item => Console.WriteLine(item));"
   ]
  },
  {
   "cell_type": "code",
   "execution_count": 27,
   "metadata": {},
   "outputs": [
    {
     "name": "stdout",
     "output_type": "stream",
     "text": [
      "True\r\n"
     ]
    }
   ],
   "source": [
    "var test = numbers.TrueForAll(n => n < 50);\n",
    "Console.WriteLine(test);"
   ]
  },
  {
   "cell_type": "markdown",
   "metadata": {},
   "source": [
    "You’ll find numerous examples of this concept in the .NET Framework. All of LINQ is built on delegates. Callbacks are used to handle cross-thread marshalling in Windows Presentation Foundation (WPF) and Windows Forms. Everywhere that the .NET Framework needs a single method, it will use a delegate that callers can express in the form of a lambda expression."
   ]
  },
  {
   "cell_type": "code",
   "execution_count": 31,
   "metadata": {},
   "outputs": [
    {
     "name": "stdout",
     "output_type": "stream",
     "text": [
      "Calling callback\r\n"
     ]
    }
   ],
   "source": [
    "// https://zetcode.com/lang/csharp/delegates/\n",
    "using System;\n",
    "\n",
    "delegate void MyDelegate();\n",
    "var md = new MyDelegate(MyCallback);\n",
    "md();\n",
    "\n",
    "void MyCallback() {\n",
    "    Console.WriteLine(\"Calling callback\");\n",
    "}\n"
   ]
  },
  {
   "cell_type": "code",
   "execution_count": 32,
   "metadata": {},
   "outputs": [
    {
     "name": "stdout",
     "output_type": "stream",
     "text": [
      "Call 1: Fabius\n",
      "Call 2: Maximus\n"
     ]
    }
   ],
   "source": [
    "// a delegate can point to different methods over time\n",
    "using System;\n",
    "\n",
    "\n",
    "public class Person {\n",
    "    public string firstName;\n",
    "    public string secondName;\n",
    "\n",
    "    public Person(string firstName, string secondName) {\n",
    "        this.firstName = firstName;\n",
    "        this.secondName = secondName;\n",
    "    }\n",
    "\n",
    "    public void ShowFirstName(string msg) {\n",
    "        Console.WriteLine($\"{msg} {this.firstName}\");\n",
    "    }\n",
    "\n",
    "    public void ShowSecondName(string msg) {\n",
    "        Console.WriteLine($\"{msg} {this.secondName}\");\n",
    "    }\n",
    "}\n",
    "\n",
    "public delegate void NameDelegate(string msg);\n",
    "\n",
    "var per = new Person(\"Fabius\", \"Maximus\");\n",
    "var nDelegate = new NameDelegate(per.ShowFirstName);\n",
    "nDelegate(\"Call 1:\");\n",
    "\n",
    "nDelegate = new NameDelegate(per.ShowSecondName);\n",
    "nDelegate(\"Call 2:\");\n"
   ]
  },
  {
   "cell_type": "markdown",
   "metadata": {},
   "source": [
    "Multicast delegate is a delegate which holds a reference to more than one method. Multicast delegates must contain only methods that return void, else there is a run-time exception."
   ]
  },
  {
   "cell_type": "code",
   "execution_count": 33,
   "metadata": {},
   "outputs": [
    {
     "name": "stdout",
     "output_type": "stream",
     "text": [
      "6 + 4 = 10\n",
      "6 - 4 = 2\n",
      "2 + 8 = 10\n"
     ]
    }
   ],
   "source": [
    "using System;\n",
    "\n",
    "\n",
    "public class Oper {\n",
    "    public static void Add(int x, int y) {\n",
    "        Console.WriteLine(\"{0} + {1} = {2}\", x, y, x + y);\n",
    "    }\n",
    "\n",
    "    public static void Sub(int x, int y) {\n",
    "        Console.WriteLine(\"{0} - {1} = {2}\", x, y, x - y);\n",
    "    }\n",
    "}\n",
    "\n",
    "\n",
    "delegate void MyDelegate(int x, int y);\n",
    "\n",
    "var del = new MyDelegate(Oper.Add);\n",
    "del += new MyDelegate(Oper.Sub);\n",
    "del(6, 4);\n",
    "\n",
    "del -= new MyDelegate(Oper.Sub);\n",
    "del(2, 8);\n"
   ]
  },
  {
   "cell_type": "code",
   "execution_count": 1,
   "metadata": {},
   "outputs": [
    {
     "name": "stdout",
     "output_type": "stream",
     "text": [
      "20\n",
      "5\n"
     ]
    }
   ],
   "source": [
    "// delegates as method parameters\n",
    "using System;\n",
    "\n",
    "delegate int Arithm(int x, int y);\n",
    "\n",
    "void DoOperation(int x, int y, Arithm del) {\n",
    "    int z = del(x, y);\n",
    "    Console.WriteLine(z);\n",
    "}\n",
    "\n",
    "int Multiply(int x, int y) {\n",
    "    return x * y;\n",
    "}\n",
    "\n",
    "int Divide(int x, int y) {\n",
    "    return x / y;\n",
    "}\n",
    "\n",
    "DoOperation(10, 2, Multiply);\n",
    "DoOperation(10, 2, Divide);"
   ]
  },
  {
   "cell_type": "markdown",
   "metadata": {},
   "source": [
    "Events are messages triggered by some action. A click on a button or a tick of a clock are such actions. The object that triggers an event is called a sender and the object that receives the event is called a receiver.\n",
    "\n",
    "By convention, event delegates in the .NET Framework have two parameters: the source that raised the event and the data for the event."
   ]
  },
  {
   "cell_type": "code",
   "execution_count": 4,
   "metadata": {},
   "outputs": [
    {
     "name": "stdout",
     "output_type": "stream",
     "text": [
      "3\n",
      "3\n",
      "3\n",
      "5\n",
      "Five Event occurred\n",
      "4\n",
      "5\n",
      "Five Event occurred\n",
      "2\n",
      "3\n",
      "1\n",
      "2\n"
     ]
    }
   ],
   "source": [
    "using System;\n",
    "\n",
    "\n",
    "public delegate void OnFiveHandler(object sender, EventArgs e);\n",
    "\n",
    "\n",
    "class FEvent {\n",
    "    public event OnFiveHandler FiveEvent;\n",
    "\n",
    "    public void OnFiveEvent() {\n",
    "        if (FiveEvent != null) {\n",
    "            FiveEvent(this, EventArgs.Empty);\n",
    "        }\n",
    "    }\n",
    "}\n",
    "\n",
    "\n",
    "void Callback(object sender, EventArgs e) {\n",
    "    Console.WriteLine(\"Five Event occurred\");\n",
    "}\n",
    "\n",
    "\n",
    "var fe = new FEvent();\n",
    "fe.FiveEvent += new OnFiveHandler(Callback);\n",
    "\n",
    "var random = new Random();\n",
    "\n",
    "for (int i = 0; i < 10; i++) {\n",
    "    int rn = random.Next(6);\n",
    "    Console.WriteLine(rn);\n",
    "\n",
    "    if (rn == 5){\n",
    "        fe.OnFiveEvent();\n",
    "    }\n",
    "}\n"
   ]
  },
  {
   "cell_type": "markdown",
   "metadata": {},
   "source": [
    "### Item 8: Use the Null Conditional Operator for Event Invocations\n",
    "What if there are no handlers attached to an event? There could even be race conditions involving the code that checks for an attached event handler and the code that invokes it. The new null conditional operator, introduced in C# 6.0, provides a much cleaner syntax for this idiom. You should change your existing habits to use the new syntax as soon as you can."
   ]
  },
  {
   "cell_type": "code",
   "execution_count": 9,
   "metadata": {},
   "outputs": [],
   "source": [
    "class EventSource {\n",
    "    private EventHandler<int> Updated;\n",
    "    private int counter;\n",
    "    \n",
    "    public void RaiseUpdates() {\n",
    "        counter++;\n",
    "        Updated(this, counter);\n",
    "    }\n",
    "}\n",
    "\n",
    "\n",
    "var es = new EventSource();\n",
    "// es.RaiseUpdates() // System.NullReferenceException"
   ]
  },
  {
   "cell_type": "markdown",
   "metadata": {},
   "source": [
    "This code has an obvious issue. If this object runs when no event handlers have been attached to the Updated event, the code will throw a NullReferenceException. If we take a step in the right direction..."
   ]
  },
  {
   "cell_type": "code",
   "execution_count": 10,
   "metadata": {},
   "outputs": [],
   "source": [
    "class EventSource {\n",
    "    private EventHandler<int> Updated;\n",
    "    private int counter;\n",
    "    \n",
    "    public void RaiseUpdates() {\n",
    "        counter++;\n",
    "        if (Updated != null) {\n",
    "            Updated(this, counter);\n",
    "        }\n",
    "    }\n",
    "}"
   ]
  },
  {
   "cell_type": "markdown",
   "metadata": {},
   "source": [
    "it’s possible that another thread will execute and unsubscribe the single event handler. When the first thread continues execution and invokes the event handler, the handler is null. You’ll still get that NullReferenceException. However, you’ll get it more rarely, and not in easy-to-reproduce scenarios.\n",
    "\n",
    "Experienced developers have learned from harsh experience that this idiom is dangerous and have replaced it with this code:"
   ]
  },
  {
   "cell_type": "code",
   "execution_count": 11,
   "metadata": {},
   "outputs": [],
   "source": [
    "class EventSource {\n",
    "    private EventHandler<int> Updated;\n",
    "    private int counter;\n",
    "    \n",
    "    public void RaiseUpdates() {\n",
    "        counter++;\n",
    "        var handler = Updated;\n",
    "        if (handler != null) {\n",
    "            handler(this, counter);\n",
    "        }\n",
    "    }\n",
    "}"
   ]
  },
  {
   "cell_type": "markdown",
   "metadata": {},
   "source": [
    "This code has been the recommended practice for raising events in .NET and C#. It works, and it’s thread safe. But it has several issues in terms of readability. It works, but it’s not easy for new .NET developers to see and understand. Also, it must be replicated everywhere the event is raised.\n",
    "\n",
    "The null conditional operator restores this action to a much simpler code construct."
   ]
  },
  {
   "cell_type": "code",
   "execution_count": 12,
   "metadata": {},
   "outputs": [],
   "source": [
    "class EventSource {\n",
    "    private EventHandler<int> Updated;\n",
    "    private int counter;\n",
    "    \n",
    "    public void RaiseUpdates() {\n",
    "        counter++;\n",
    "        Updated?.Invoke(this, counter);\n",
    "    }\n",
    "}"
   ]
  },
  {
   "cell_type": "markdown",
   "metadata": {},
   "source": [
    "This code uses the null conditional operator (\"?.\") to safely invoke the event handlers. The \"?.\" operator evaluates the left-hand side of the operator. If that evaluates to a non-null value, the expression on the right-hand side of the operator is executed. If the expression is null, it short-circuits and execution continues at the next statement.\n",
    "\n",
    "This code is thread safe. It’s also more concise."
   ]
  },
  {
   "cell_type": "markdown",
   "metadata": {},
   "source": [
    "### Item 9: Minimize Boxing and Unboxing\n",
    "Boxing places a value type in an untyped reference object to allow the value type to be used where a reference type is expected. Unboxing extracts a copy of that value type from the box. Boxing and unboxing are necessary for you to use value types where the System.Object type or an interface type is expected. But boxing and unboxing are always performance-robbing operations.\n",
    "\n",
    "Watch for implicit conversions to System.Object. Value types should not be substituted for System.Object if you can avoid it."
   ]
  },
  {
   "cell_type": "markdown",
   "metadata": {},
   "source": [
    "### Item 10: Use the new Modifier Only to React to Base Class Updates\n",
    "You can use the new modifier on a class member to redefine a nonvirtual member inherited from a base class. Just because you can do something doesn’t mean you should, though. Redefining nonvirtual methods creates ambiguous behavior."
   ]
  },
  {
   "cell_type": "code",
   "execution_count": 16,
   "metadata": {},
   "outputs": [
    {
     "name": "stdout",
     "output_type": "stream",
     "text": [
      "MyOtherClass\r\n"
     ]
    }
   ],
   "source": [
    "class MyClass {\n",
    "    public void MagicMethod() {\n",
    "        Console.WriteLine(\"MyClass\");\n",
    "    }\n",
    "}\n",
    "\n",
    "\n",
    "class MyOtherClass {\n",
    "    public new void MagicMethod() {\n",
    "        Console.WriteLine(\"MyOtherClass\");\n",
    "    }\n",
    "}\n",
    "\n",
    "\n",
    "class Helper {\n",
    "    public static object MakeObject() {\n",
    "        return new MyOtherClass();\n",
    "    }\n",
    "}\n",
    "\n",
    "object c = Helper.MakeObject();\n",
    "Console.WriteLine(c.GetType().Name);"
   ]
  },
  {
   "cell_type": "code",
   "execution_count": 20,
   "metadata": {},
   "outputs": [
    {
     "name": "stdout",
     "output_type": "stream",
     "text": [
      "MyOtherClass\r\n"
     ]
    }
   ],
   "source": [
    "MyOtherClass moc = c as MyOtherClass;\n",
    "Console.WriteLine(moc.GetType().Name);"
   ]
  },
  {
   "cell_type": "code",
   "execution_count": 26,
   "metadata": {},
   "outputs": [
    {
     "name": "stdout",
     "output_type": "stream",
     "text": [
      "True\r\n"
     ]
    }
   ],
   "source": [
    "MyClass mc = c as MyClass;\n",
    "Console.WriteLine(mc is null);"
   ]
  },
  {
   "cell_type": "markdown",
   "metadata": {},
   "source": [
    "Nonvirtual methods are statically bound. Any source code anywhere that references MyClass.MagicMethod() calls exactly that function. Nothing in the runtime looks for a different version defined in any derived classes.\n",
    "\n",
    "The recommendation to avoid using the new modifier to redefine nonvirtual functions should not be interpreted as a recommendation to make everything virtual when you define base classes."
   ]
  },
  {
   "cell_type": "markdown",
   "metadata": {},
   "source": [
    "***"
   ]
  }
 ],
 "metadata": {
  "kernelspec": {
   "display_name": ".NET (C#)",
   "language": "C#",
   "name": ".net-csharp"
  },
  "language_info": {
   "file_extension": ".cs",
   "mimetype": "text/x-csharp",
   "name": "C#",
   "pygments_lexer": "csharp",
   "version": "8.0"
  }
 },
 "nbformat": 4,
 "nbformat_minor": 2
}
