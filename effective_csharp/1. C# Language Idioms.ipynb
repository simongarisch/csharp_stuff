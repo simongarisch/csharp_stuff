{
 "cells": [
  {
   "cell_type": "markdown",
   "metadata": {},
   "source": [
    "## 1. C# Language Idioms\n",
    "The C# language has evolved since its first commercial release in 2001. It’s now much farther removed from C++ or Java than it was in its original release."
   ]
  },
  {
   "cell_type": "markdown",
   "metadata": {},
   "source": [
    "### Item 1: Prefer Implicitly Typed Local Variables\n",
    "I prefer var and use it to declare many local variables because I find that it focuses the developer’s attention on the important part (the semantic meaning) and not on the particulars of a variable’s type. The compiler still warns me if I have created any construct that doesn’t type-check."
   ]
  },
  {
   "cell_type": "code",
   "execution_count": 6,
   "metadata": {},
   "outputs": [],
   "source": [
    "class MyClass {}\n",
    "\n",
    "MyClass obj1 = new MyClass();\n",
    "var obj2 = new MyClass();"
   ]
  },
  {
   "cell_type": "code",
   "execution_count": 10,
   "metadata": {},
   "outputs": [
    {
     "name": "stdout",
     "output_type": "stream",
     "text": [
      "MyClass\r\n"
     ]
    }
   ],
   "source": [
    "Console.WriteLine(obj1.GetType().Name);"
   ]
  },
  {
   "cell_type": "code",
   "execution_count": 9,
   "metadata": {},
   "outputs": [
    {
     "name": "stdout",
     "output_type": "stream",
     "text": [
      "MyClass\r\n"
     ]
    }
   ],
   "source": [
    "Console.WriteLine(obj2.GetType().Name);"
   ]
  },
  {
   "cell_type": "markdown",
   "metadata": {},
   "source": [
    "Sometimes using var and not knowing the return type of some function can make things confusing when reading the code."
   ]
  },
  {
   "cell_type": "code",
   "execution_count": 12,
   "metadata": {},
   "outputs": [
    {
     "name": "stdout",
     "output_type": "stream",
     "text": [
      "1\n",
      "Double\n"
     ]
    }
   ],
   "source": [
    "class GuessWho {\n",
    "    public static double GetMagicNumber() {\n",
    "        return 1.0;\n",
    "    }\n",
    "}\n",
    "\n",
    "var num = GuessWho.GetMagicNumber(); // hmmm, int, float, double???\n",
    "Console.WriteLine(num);\n",
    "Console.WriteLine(num.GetType().Name);"
   ]
  },
  {
   "cell_type": "markdown",
   "metadata": {},
   "source": [
    "At other times you can shoot yourself in the foot by being type explicit in variable declarations.\n",
    "\n",
    "For example, [IQueryable<T>](https://docs.microsoft.com/en-us/dotnet/api/system.linq.iqueryable?view=net-5.0) derives from [IEnumerable<T>](https://docs.microsoft.com/en-us/dotnet/api/system.collections.ienumerable?view=net-5.0). In the below example the second query does not call Queryable.Where; instead, it calls Enumerable.Where. That has a large negative implication for performance."
   ]
  },
  {
   "cell_type": "code",
   "execution_count": 46,
   "metadata": {},
   "outputs": [
    {
     "name": "stdout",
     "output_type": "stream",
     "text": [
      "Jane\n",
      "Jim\n",
      "WhereEnumerableIterator`1\n",
      "Jane\n",
      "Jim\n",
      "EnumerableQuery`1\n"
     ]
    }
   ],
   "source": [
    "using System;\n",
    "using System.Collections.Generic;\n",
    "\n",
    "\n",
    "class Customer {\n",
    "    public readonly String ContactName;\n",
    "    \n",
    "    public Customer(String ContactName) {\n",
    "        this.ContactName = ContactName;\n",
    "    } \n",
    "}\n",
    "\n",
    "\n",
    "class DB {\n",
    "    public IQueryable<Customer> Customers;\n",
    "    \n",
    "    public DB() {\n",
    "        List<Customer> list = new List<Customer>();\n",
    "        list.Add(new Customer(\"Bob\"));\n",
    "        list.Add(new Customer(\"Jane\"));\n",
    "        list.Add(new Customer(\"Jim\"));        \n",
    "        this.Customers = list.AsQueryable();\n",
    "    }\n",
    "}\n",
    "\n",
    "\n",
    "class BadlyTypedQuery {\n",
    "    private DB db;\n",
    "    \n",
    "    public BadlyTypedQuery() {\n",
    "        this.db = new DB();\n",
    "    }\n",
    "\n",
    "    public IEnumerable<string> FindCustomersStartingWith1(String start) {\n",
    "        IEnumerable<string> q = \n",
    "            from c in db.Customers\n",
    "            select c.ContactName;\n",
    "        \n",
    "        var q2 = q.Where(s => s.StartsWith(start));\n",
    "        return q2;\n",
    "    }\n",
    "    \n",
    "    // Same method, but different return type.\n",
    "    public IQueryable<string> FindCustomersStartingWith2(String start) {\n",
    "        var q = from c in db.Customers select c.ContactName;\n",
    "        var q2 = q.Where(s => s.StartsWith(start));\n",
    "        return q2;\n",
    "    }\n",
    "}\n",
    "\n",
    "\n",
    "var query = new BadlyTypedQuery();\n",
    "\n",
    "var result1 = query.FindCustomersStartingWith1(\"J\");\n",
    "foreach(String item in result1) {\n",
    "    Console.WriteLine(item);\n",
    "}\n",
    "Console.WriteLine(result1.GetType().Name);\n",
    "// Jane, Jim\n",
    "// WhereEnumerableIterator`1\n",
    "\n",
    "\n",
    "var result2 = query.FindCustomersStartingWith2(\"J\");\n",
    "foreach(String item in result2) {\n",
    "    Console.WriteLine(item);\n",
    "}\n",
    "Console.WriteLine(result2.GetType().Name);\n",
    "// Jane, Jim\n",
    "// EnumerableQuery`1"
   ]
  },
  {
   "cell_type": "markdown",
   "metadata": {},
   "source": [
    "You, the developer, must decide whether letting the compiler silently declare the compile-time type of the variable harms readability. If not being able to immediately see the exact type of a local variable creates ambiguity when someone reads the code, it’s best to declare that type explicitly. However, in many cases, the code clearly conveys the semantic information about the variable."
   ]
  },
  {
   "cell_type": "markdown",
   "metadata": {},
   "source": [
    "### Item 2: Prefer readonly to const\n",
    "You declare runtime constants with the readonly keyword. Compile-time constants are declared with the const keyword. Compile-time constants are slightly faster, but far less flexible."
   ]
  },
  {
   "cell_type": "code",
   "execution_count": 49,
   "metadata": {},
   "outputs": [
    {
     "name": "stdout",
     "output_type": "stream",
     "text": [
      "2000\n",
      "2021\n"
     ]
    }
   ],
   "source": [
    "// Complile-time constant\n",
    "const int Millennium = 2000;\n",
    "\n",
    "// Runtime constant\n",
    "static readonly int ThisYear = 2021;\n",
    "\n",
    "Console.WriteLine(Millennium);\n",
    "Console.WriteLine(ThisYear);"
   ]
  },
  {
   "cell_type": "code",
   "execution_count": 50,
   "metadata": {},
   "outputs": [
    {
     "name": "stdout",
     "output_type": "stream",
     "text": [
      "Int32\r\n"
     ]
    }
   ],
   "source": [
    "Console.WriteLine(Millennium.GetType().Name);"
   ]
  },
  {
   "cell_type": "code",
   "execution_count": 51,
   "metadata": {},
   "outputs": [
    {
     "name": "stdout",
     "output_type": "stream",
     "text": [
      "Int32\r\n"
     ]
    }
   ],
   "source": [
    "Console.WriteLine(ThisYear.GetType().Name);"
   ]
  },
  {
   "cell_type": "markdown",
   "metadata": {},
   "source": [
    "A compile-time constant is replaced with the value of that constant in your object code. This distinction places several restrictions on when you are allowed to use either type of constant. Compile-time constants can be used only for the built-in integral and floating-point types, enums, or strings.\n",
    "\n",
    "Read-only values are also constants in that they cannot be modified after the constructor has executed. But read-only values are different in that they are assigned at runtime. You have much more flexibility when working with runtime constants. For one thing, runtime constants can be any type."
   ]
  },
  {
   "cell_type": "code",
   "execution_count": 52,
   "metadata": {},
   "outputs": [],
   "source": [
    "class ReadOnlyExample {\n",
    "    public readonly int num;\n",
    "    \n",
    "    public ReadOnlyExample() {\n",
    "        this.num= 7;\n",
    "    }\n",
    "}\n",
    "\n",
    "var roe = new ReadOnlyExample();"
   ]
  },
  {
   "cell_type": "code",
   "execution_count": 54,
   "metadata": {},
   "outputs": [
    {
     "data": {
      "text/html": [
       "7"
      ]
     },
     "execution_count": 54,
     "metadata": {},
     "output_type": "execute_result"
    }
   ],
   "source": [
    "roe.num"
   ]
  },
  {
   "cell_type": "code",
   "execution_count": 57,
   "metadata": {},
   "outputs": [
    {
     "ename": "Unhandled exception",
     "evalue": "(1,1): error CS0191: A readonly field cannot be assigned to (except in a constructor or a variable initializer)",
     "output_type": "error",
     "traceback": [
      "(1,1): error CS0191: A readonly field cannot be assigned to (except in a constructor or a variable initializer)"
     ]
    }
   ],
   "source": [
    "roe.num = 8; // not after the constructor has run"
   ]
  },
  {
   "cell_type": "markdown",
   "metadata": {},
   "source": [
    "### Item 3: Prefer the is or as Operators to Casts\n",
    "The correct choice is to use the as operator whenever you can because it is safer than blindly casting and is more efficient at runtime."
   ]
  },
  {
   "cell_type": "code",
   "execution_count": 61,
   "metadata": {},
   "outputs": [
    {
     "name": "stdout",
     "output_type": "stream",
     "text": [
      "Success casting MyType\r\n"
     ]
    }
   ],
   "source": [
    "// one way to do it\n",
    "class MyType {}\n",
    "class NotMyType {}\n",
    "\n",
    "class Factory {\n",
    "    public static MyType GetObject() {\n",
    "        return new MyType();\n",
    "    }\n",
    "}\n",
    "\n",
    "object obj = Factory.GetObject();\n",
    "MyType mt = obj as MyType;\n",
    "if (mt != null) {\n",
    "    Console.WriteLine(\"Success casting \" + mt.GetType().Name);\n",
    "} else {\n",
    "    Console.WriteLine(\"No luck in casting obj!\");\n",
    "}"
   ]
  },
  {
   "cell_type": "code",
   "execution_count": 63,
   "metadata": {},
   "outputs": [
    {
     "name": "stdout",
     "output_type": "stream",
     "text": [
      "No luck in casting obj!\r\n"
     ]
    }
   ],
   "source": [
    "object obj = new NotMyType();\n",
    "MyType mt = obj as MyType;\n",
    "if (mt != null) {\n",
    "    Console.WriteLine(\"Success casting \" + mt.GetType().Name);\n",
    "} else {\n",
    "    Console.WriteLine(\"No luck in casting obj!\");\n",
    "}"
   ]
  },
  {
   "cell_type": "code",
   "execution_count": 64,
   "metadata": {},
   "outputs": [
    {
     "name": "stdout",
     "output_type": "stream",
     "text": [
      "Success casting MyType\r\n"
     ]
    }
   ],
   "source": [
    "// another way to cast\n",
    "object obj = Factory.GetObject();\n",
    "try {\n",
    "    MyType mt;\n",
    "    mt = (MyType)obj;\n",
    "    Console.WriteLine(\"Success casting \" + mt.GetType().Name);\n",
    "} catch (InvalidCastException) {\n",
    "    Console.WriteLine(\"No luck in casting obj!\");\n",
    "}"
   ]
  },
  {
   "cell_type": "markdown",
   "metadata": {},
   "source": [
    "You’ll agree that the first version is simpler and easier to read. It does not have the try/catch clause, so you avoid both the overhead and the code. Notice that the cast version must check null in addition to catching exceptions.\n",
    "\n",
    "as and is operators examine the runtime type of the object being converted; they do not perform any other operations, except boxing when necessary. If a particular object is not the requested type or is derived from the requested type, they fail. Casts, on the other hand, can use conversion operators to convert an object to the requested type. This includes any built-in numeric conversions. Casting a long to a short can lose information."
   ]
  },
  {
   "cell_type": "code",
   "execution_count": 73,
   "metadata": {},
   "outputs": [
    {
     "name": "stdout",
     "output_type": "stream",
     "text": [
      "Conversion failed!\r\n"
     ]
    }
   ],
   "source": [
    "// version one\n",
    "class SecondType {\n",
    "    private MyType _value;\n",
    "    \n",
    "    public static implicit operator MyType(SecondType t) {\n",
    "        return t._value;\n",
    "    }\n",
    "}\n",
    "\n",
    "\n",
    "class Factory {\n",
    "    public static SecondType GetObject() {\n",
    "        return new SecondType();\n",
    "    }\n",
    "}\n",
    "\n",
    "\n",
    "object obj = Factory.GetObject(); // obj is a SecondType\n",
    "MyType mt = obj as MyType; // Fails\n",
    "if (mt != null) {\n",
    "    Console.WriteLine(\"Conversion success...\");\n",
    "} else {\n",
    "    Console.WriteLine(\"Conversion failed!\");\n",
    "}"
   ]
  },
  {
   "cell_type": "code",
   "execution_count": 75,
   "metadata": {},
   "outputs": [
    {
     "name": "stdout",
     "output_type": "stream",
     "text": [
      "Conversion failed!\r\n"
     ]
    }
   ],
   "source": [
    "// version two\n",
    "try {\n",
    "    MyType mt;\n",
    "    mt = (MyType)obj; // Fails\n",
    "    Console.WriteLine(\"Conversion success...\");\n",
    "} catch (InvalidCastException) {\n",
    "    Console.WriteLine(\"Conversion failed!\");\n",
    "}"
   ]
  },
  {
   "cell_type": "markdown",
   "metadata": {},
   "source": [
    "Both versions fail. It fails because your compiler is generating code based on the compile-time type of the object, o. The compiler knows nothing about the runtime type of o; it views o as an instance of object."
   ]
  },
  {
   "cell_type": "markdown",
   "metadata": {},
   "source": [
    "The foreach statement needs to use casts to support both value types and reference types. By choosing the cast operator, the foreach statement exhibits the same behavior, no matter what the destination type is. However, because a cast is used, foreach loops can cause an InvalidCastException to be thrown."
   ]
  },
  {
   "cell_type": "code",
   "execution_count": 91,
   "metadata": {},
   "outputs": [
    {
     "name": "stdout",
     "output_type": "stream",
     "text": [
      "1 Int32\n",
      "2 Int32\n",
      "3 Int32\n"
     ]
    },
    {
     "ename": "Unhandled exception",
     "evalue": "System.InvalidCastException: Unable to cast object of type 'System.String' to type 'System.Int32'.\r\n   at Submission#94.<<Initialize>>d__0.MoveNext()\r\n--- End of stack trace from previous location where exception was thrown ---\r\n   at Microsoft.CodeAnalysis.Scripting.ScriptExecutionState.RunSubmissionsAsync[TResult](ImmutableArray`1 precedingExecutors, Func`2 currentExecutor, StrongBox`1 exceptionHolderOpt, Func`2 catchExceptionOpt, CancellationToken cancellationToken)",
     "output_type": "error",
     "traceback": [
      "System.InvalidCastException: Unable to cast object of type 'System.String' to type 'System.Int32'.\r\n   at Submission#94.<<Initialize>>d__0.MoveNext()\r\n--- End of stack trace from previous location where exception was thrown ---\r\n   at Microsoft.CodeAnalysis.Scripting.ScriptExecutionState.RunSubmissionsAsync[TResult](ImmutableArray`1 precedingExecutors, Func`2 currentExecutor, StrongBox`1 exceptionHolderOpt, Func`2 catchExceptionOpt, CancellationToken cancellationToken)",
      "   at Submission#94.<<Initialize>>d__0.MoveNext()",
      "--- End of stack trace from previous location where exception was thrown ---",
      "   at Microsoft.CodeAnalysis.Scripting.ScriptExecutionState.RunSubmissionsAsync[TResult](ImmutableArray`1 precedingExecutors, Func`2 currentExecutor, StrongBox`1 exceptionHolderOpt, Func`2 catchExceptionOpt, CancellationToken cancellationToken)"
     ]
    }
   ],
   "source": [
    "List<object> objects = new List<object>();\n",
    "objects.Add(1);\n",
    "objects.Add(2);\n",
    "objects.Add(3);\n",
    "objects.Add(\"4\");\n",
    "\n",
    "foreach(int i in objects) {\n",
    "    Console.WriteLine(i.ToString() + \" \" + i.GetType().Name);\n",
    "}"
   ]
  },
  {
   "cell_type": "code",
   "execution_count": 97,
   "metadata": {},
   "outputs": [
    {
     "name": "stdout",
     "output_type": "stream",
     "text": [
      "1 Int32\n",
      "2 Int32\n",
      "3 Int32\n",
      "Unable to cast String to int -> 4\n"
     ]
    }
   ],
   "source": [
    "// to get around this...\n",
    "foreach(object obj in objects) {\n",
    "    try {\n",
    "        int i;\n",
    "        i = (int)obj;\n",
    "        Console.WriteLine(i + \" \" + i.GetType().Name);\n",
    "    } catch (InvalidCastException) {\n",
    "        Console.WriteLine(\"Unable to cast \" + obj.GetType().Name + \" to int -> \" + obj);\n",
    "    }\n",
    "}"
   ]
  },
  {
   "cell_type": "markdown",
   "metadata": {},
   "source": [
    "### Item 4: Replace string.Format() with Interpolated Strings"
   ]
  },
  {
   "cell_type": "code",
   "execution_count": null,
   "metadata": {},
   "outputs": [],
   "source": []
  }
 ],
 "metadata": {
  "kernelspec": {
   "display_name": ".NET (C#)",
   "language": "C#",
   "name": ".net-csharp"
  },
  "language_info": {
   "file_extension": ".cs",
   "mimetype": "text/x-csharp",
   "name": "C#",
   "pygments_lexer": "csharp",
   "version": "8.0"
  }
 },
 "nbformat": 4,
 "nbformat_minor": 2
}
