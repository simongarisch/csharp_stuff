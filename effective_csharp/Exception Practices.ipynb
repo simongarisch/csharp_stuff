{
 "cells": [
  {
   "cell_type": "markdown",
   "metadata": {},
   "source": [
    "## Exception Practices\n",
    "Errors happen. Despite our best efforts, our programs encounter situations we didn’t anticipate. Throughout the .NET Framework, methods either succeed, or they indicate their failure by throwing an exception. Making your code robust when exceptions are thrown is a key skill for every C# developer."
   ]
  },
  {
   "cell_type": "markdown",
   "metadata": {},
   "source": [
    "### Item 45: Use Exceptions to Report Method Contract Failures"
   ]
  },
  {
   "cell_type": "markdown",
   "metadata": {},
   "source": [
    "### Item 46: Utilize using and try/finally for Resource Cleanup\n",
    "The best way to ensure that Dispose() always gets called is to utilize the using statement or a try/finally block."
   ]
  },
  {
   "cell_type": "markdown",
   "metadata": {},
   "source": [
    "### Item 47: Create Complete Application-Specific Exception Classes"
   ]
  },
  {
   "cell_type": "markdown",
   "metadata": {},
   "source": [
    "### Item 48: Prefer the Strong Exception Guarantee\n",
    "The C++ community developed a series of best practices that we can adapt to C# applications. Dave Abrahams defined three exception-safe guarantees: the basic guarantee, the strong guarantee, and the no-throw guarantee. Herb Sutter discussed these guarantees in his book Exceptional C++ (Addison-Wesley, 2000).\n",
    "\n",
    "The strong guarantee states that if an operation terminates because of an exception, program state remains unchanged. Either an operation completes or it does not modify program state; there is no middle ground. The advantage of the strong guarantee is that you can more easily continue execution after catching an exception when the strong guarantee is followed.\n",
    "\n",
    "Sometimes the strong guarantee is just too inefficient to support, and sometimes you cannot support the strong guarantee without introducing subtle bugs. The first and simplest case is looping constructs. When the code inside a loop modifies the state of the program and might throw an exception, you are faced with a tough choice: You can either create a defensive copy of all the objects used in the loop, or you can lower your expectations and support only the basic exception guarantee.\n",
    "\n",
    "I prefer to support the strong exception guarantee whenever possible, even if it means copying a large container: The ability to recover from errors outweighs the small performance gain from avoiding the copy."
   ]
  },
  {
   "cell_type": "markdown",
   "metadata": {},
   "source": [
    "### Item 49: Prefer Exception Filters to catch and re-throw"
   ]
  },
  {
   "cell_type": "markdown",
   "metadata": {},
   "source": [
    "### Item 50: Leverage Side Effects in Exception Filters"
   ]
  },
  {
   "cell_type": "markdown",
   "metadata": {},
   "source": [
    "***"
   ]
  }
 ],
 "metadata": {
  "kernelspec": {
   "display_name": ".NET (C#)",
   "language": "C#",
   "name": ".net-csharp"
  },
  "language_info": {
   "file_extension": ".cs",
   "mimetype": "text/x-csharp",
   "name": "C#",
   "pygments_lexer": "csharp",
   "version": "8.0"
  }
 },
 "nbformat": 4,
 "nbformat_minor": 2
}
