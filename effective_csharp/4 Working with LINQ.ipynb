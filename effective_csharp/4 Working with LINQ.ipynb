{
 "cells": [
  {
   "cell_type": "markdown",
   "metadata": {},
   "source": [
    "## Working with LINQ"
   ]
  },
  {
   "cell_type": "markdown",
   "metadata": {},
   "source": [
    "### Item 29: Prefer Iterator Methods to Returning Collections\n"
   ]
  },
  {
   "cell_type": "code",
   "execution_count": 1,
   "metadata": {},
   "outputs": [],
   "source": [
    "public static IEnumerable<char> GenerateAlphabet() {\n",
    "    var letter = 'a';\n",
    "    while (letter <= 'z') {\n",
    "        yield return letter;\n",
    "        letter++;\n",
    "    }\n",
    "}"
   ]
  },
  {
   "cell_type": "code",
   "execution_count": 3,
   "metadata": {},
   "outputs": [
    {
     "name": "stdout",
     "output_type": "stream",
     "text": [
      "a b c d e f g h i j k l m n o p q r s t u v w x y z "
     ]
    }
   ],
   "source": [
    "using System;\n",
    "\n",
    "foreach(char c in GenerateAlphabet()) {\n",
    "    Console.Write(c + \" \");\n",
    "}"
   ]
  },
  {
   "cell_type": "code",
   "execution_count": 4,
   "metadata": {},
   "outputs": [],
   "source": [
    "var allNumbers = Enumerable.Range(0, int.MaxValue);"
   ]
  },
  {
   "cell_type": "markdown",
   "metadata": {},
   "source": [
    "TThis generate-as-needed strategy highlights one other important idiom when writing iterator methods. Iterator methods create an object that knows how to generate the sequence. The code to generate the sequence executes only when a caller requests an item in the sequence. That means very little of the code executes when a generator method is called."
   ]
  },
  {
   "cell_type": "markdown",
   "metadata": {},
   "source": [
    "### Item 30: Prefer Query Syntax to Loops"
   ]
  },
  {
   "cell_type": "code",
   "execution_count": 8,
   "metadata": {},
   "outputs": [
    {
     "name": "stdout",
     "output_type": "stream",
     "text": [
      "0 1 4 9 16 25 36 49 64 81 100 "
     ]
    }
   ],
   "source": [
    "// looping approach\n",
    "var foo = new int[11];\n",
    "for (var num=0; num<foo.Length; num++) {\n",
    "    foo[num] = num * num;\n",
    "}\n",
    "\n",
    "foreach(var i in foo) {\n",
    "    Console.Write(i + \" \");\n",
    "}"
   ]
  },
  {
   "cell_type": "code",
   "execution_count": 18,
   "metadata": {},
   "outputs": [
    {
     "name": "stdout",
     "output_type": "stream",
     "text": [
      "0 1 4 9 16 25 36 49 64 81 100 "
     ]
    }
   ],
   "source": [
    "// query syntax\n",
    "var foo = (from n in Enumerable.Range(0, 11) select n * n).ToArray();\n",
    "Array.ForEach(foo, n => Console.Write(n + \" \"));"
   ]
  },
  {
   "cell_type": "markdown",
   "metadata": {},
   "source": [
    "We can create our own ForAll implementation..."
   ]
  },
  {
   "cell_type": "code",
   "execution_count": null,
   "metadata": {},
   "outputs": [],
   "source": [
    "public static class Extensions { // will need to do this outside of jupyter...\n",
    "    public static void ForAll<T>(this IEnumerable<T> sequence, Action<T> action) {\n",
    "        foreach(T item in sequence) {\n",
    "            action(item);\n",
    "        }\n",
    "    }\n",
    "}"
   ]
  },
  {
   "cell_type": "markdown",
   "metadata": {},
   "source": [
    "Change the problem to generating only those pairs where the sum of X and Y is less than 5."
   ]
  },
  {
   "cell_type": "code",
   "execution_count": 26,
   "metadata": {},
   "outputs": [
    {
     "name": "stdout",
     "output_type": "stream",
     "text": [
      "(0, 0)\n",
      "(0, 1)\n",
      "(0, 2)\n",
      "(0, 3)\n",
      "(0, 4)\n",
      "(1, 0)\n",
      "(1, 1)\n",
      "(1, 2)\n",
      "(1, 3)\n",
      "(2, 0)\n",
      "(2, 1)\n",
      "(2, 2)\n",
      "(3, 0)\n",
      "(3, 1)\n",
      "(4, 0)\n"
     ]
    }
   ],
   "source": [
    "private static IEnumerable<Tuple<int, int>> ProduceIndices() {\n",
    "    for (var x = 0; x < 100; x++)\n",
    "        for (var y = 0; y < 100; y++)\n",
    "            if (x + y < 5)\n",
    "                yield return Tuple.Create(x, y);\n",
    "}\n",
    "\n",
    "var indices = ProduceIndices();\n",
    "foreach(var item in indices) {\n",
    "    Console.WriteLine(item);\n",
    "}"
   ]
  },
  {
   "cell_type": "code",
   "execution_count": 27,
   "metadata": {},
   "outputs": [
    {
     "name": "stdout",
     "output_type": "stream",
     "text": [
      "(0, 0)\n",
      "(0, 1)\n",
      "(0, 2)\n",
      "(0, 3)\n",
      "(0, 4)\n",
      "(1, 0)\n",
      "(1, 1)\n",
      "(1, 2)\n",
      "(1, 3)\n",
      "(2, 0)\n",
      "(2, 1)\n",
      "(2, 2)\n",
      "(3, 0)\n",
      "(3, 1)\n",
      "(4, 0)\n"
     ]
    }
   ],
   "source": [
    "private static IEnumerable<Tuple<int, int>> QueryIndices() {\n",
    "    return from x in Enumerable.Range(0, 100)\n",
    "            from y in Enumerable.Range(0, 100)\n",
    "            where x + y < 5\n",
    "            select Tuple.Create(x, y);\n",
    "}\n",
    "\n",
    "var indices = QueryIndices();\n",
    "foreach(var item in indices) {\n",
    "    Console.WriteLine(item);\n",
    "}"
   ]
  },
  {
   "cell_type": "markdown",
   "metadata": {},
   "source": [
    "### Item 31: Create Composable APIs for Sequences\n",
    "To see the benefits of writing iterator methods, let’s take a simple example and examine the translation."
   ]
  },
  {
   "cell_type": "code",
   "execution_count": 31,
   "metadata": {},
   "outputs": [],
   "source": [
    "using System;\n",
    "using System.Collections.Generic;\n",
    "\n",
    "public static void Unique(IEnumerable<int> nums) {\n",
    "    var uniqueVals = new HashSet<int>();\n",
    "    \n",
    "    foreach(var num in nums) {\n",
    "        if (!uniqueVals.Contains(num)) {\n",
    "            uniqueVals.Add(num);\n",
    "            Console.WriteLine(num);\n",
    "        }\n",
    "    }\n",
    "}"
   ]
  },
  {
   "cell_type": "code",
   "execution_count": 32,
   "metadata": {},
   "outputs": [],
   "source": [
    "// suppose that you instead wrote it this way...\n",
    "public static IEnumerable<int> UniqueV2(IEnumerable<int> nums) {\n",
    "    var uniqueVals = new HashSet<int>();\n",
    "    foreach(var num in nums) {\n",
    "        if (!uniqueVals.Contains(num)) {\n",
    "            uniqueVals.Add(num);\n",
    "            yield return num;\n",
    "        }\n",
    "    }\n",
    "}"
   ]
  },
  {
   "cell_type": "code",
   "execution_count": 35,
   "metadata": {},
   "outputs": [
    {
     "name": "stdout",
     "output_type": "stream",
     "text": [
      "1 2 3 4 5 "
     ]
    }
   ],
   "source": [
    "var nums = new int[] {1, 2, 2, 3, 4, 5, 5};\n",
    "foreach(var num in UniqueV2(nums)) {\n",
    "    Console.Write(num + \" \");\n",
    "}"
   ]
  },
  {
   "cell_type": "markdown",
   "metadata": {},
   "source": [
    "### Item 32: Decouple Iterations from Actions, Predicates, and Functions"
   ]
  },
  {
   "cell_type": "code",
   "execution_count": 11,
   "metadata": {},
   "outputs": [
    {
     "name": "stdout",
     "output_type": "stream",
     "text": [
      "2 12 22 32 42 "
     ]
    }
   ],
   "source": [
    "// you might write like this\n",
    "\n",
    "public List<int> CreateSequence(int numberOfElements, int startAt, int stepBy) {\n",
    "    var collection = new List<int>(numberOfElements);\n",
    "    for (int i=0; i<numberOfElements; i++) {\n",
    "        collection.Add(startAt + i*stepBy);\n",
    "    }\n",
    "    return collection;\n",
    "}   \n",
    "\n",
    "\n",
    "var myList = CreateSequence(5, 2, 10);\n",
    "foreach(var element in myList) {\n",
    "    Console.Write(element + \" \");\n",
    "}"
   ]
  },
  {
   "cell_type": "code",
   "execution_count": 12,
   "metadata": {},
   "outputs": [
    {
     "name": "stdout",
     "output_type": "stream",
     "text": [
      "2 12 22 32 42 "
     ]
    }
   ],
   "source": [
    "// you can remove limitations by making the generation function an iterator method\n",
    "public IEnumerable<int> CreateSequence2(int numberOfElements, int startAt, int stepBy) {\n",
    "    for(var i=0; i<numberOfElements; i++) {\n",
    "        yield return startAt + i * stepBy;\n",
    "    }\n",
    "}\n",
    "\n",
    "\n",
    "var myList = CreateSequence2(5, 2, 10);\n",
    "foreach(var element in myList) {\n",
    "    Console.Write(element + \" \");\n",
    "}"
   ]
  },
  {
   "cell_type": "markdown",
   "metadata": {},
   "source": [
    "### Item 34: Loosen Coupling by Using Function Parameters\n",
    "Creating interfaces and coding against them results in looser coupling than does relying on base classes. There are only two important differences: First, using an interface does not enforce any class hierarchy on your users. But second, you can’t easily provide a default implementation for any of the behavior necessary for client code.\n",
    "\n",
    "Do you really need to define an interface? Or will a more loosely coupled approach, such as defining a delegate signature, be better?"
   ]
  },
  {
   "cell_type": "code",
   "execution_count": 18,
   "metadata": {},
   "outputs": [
    {
     "name": "stdout",
     "output_type": "stream",
     "text": [
      "14 25 36 "
     ]
    }
   ],
   "source": [
    "// one approach\n",
    "public static IEnumerable<string> Zip(IEnumerable<string> first, IEnumerable<string> second) {\n",
    "    using (var firstSequence = first.GetEnumerator()) {\n",
    "        using (var secondSequence = second.GetEnumerator()) {\n",
    "            while (firstSequence.MoveNext() && secondSequence.MoveNext()) {\n",
    "                yield return string.Format(\"{0}{1}\", firstSequence.Current, secondSequence.Current);\n",
    "            }\n",
    "        }\n",
    "    }\n",
    "}\n",
    "\n",
    "var l1 = new List<string>{\"1\", \"2\", \"3\"};\n",
    "var l2 = new List<string>{\"4\", \"5\", \"6\"};\n",
    "\n",
    "foreach(var item in Zip(l1, l2)) {\n",
    "    Console.Write(item + \" \");\n",
    "}"
   ]
  },
  {
   "cell_type": "code",
   "execution_count": 23,
   "metadata": {},
   "outputs": [
    {
     "name": "stdout",
     "output_type": "stream",
     "text": [
      "14 25 36 "
     ]
    }
   ],
   "source": [
    "// alternatively\n",
    "public static IEnumerable<string> Zip2(\n",
    "    IEnumerable<string> first,\n",
    "    IEnumerable<string> second,\n",
    "    Func<string, string, string> zipper\n",
    ") {\n",
    "     using (var firstSequence = first.GetEnumerator()) {\n",
    "         using (var secondSequence = second.GetEnumerator()) {\n",
    "             while (firstSequence.MoveNext() && secondSequence.MoveNext()) {\n",
    "                 yield return zipper(firstSequence.Current, secondSequence.Current);\n",
    "             }\n",
    "         }\n",
    "     }\n",
    "}\n",
    "\n",
    "\n",
    "var result = Zip2(l1, l2, (one, two) => string.Format(\"{0}{1}\", one, two));\n",
    "foreach(var item in result) {\n",
    "    Console.Write(item + \" \");\n",
    "}"
   ]
  },
  {
   "cell_type": "markdown",
   "metadata": {},
   "source": [
    "### Item 35: Never Overload Extension Methods"
   ]
  },
  {
   "cell_type": "markdown",
   "metadata": {},
   "source": [
    "### Item 36: Understand How Query Expressions Map to Method Calls\n",
    "\n",
    "LINQ is built on two concepts: a query language, and a translation from that query language into a set of methods. The C# compiler converts query expressions written in that query language into method calls."
   ]
  },
  {
   "cell_type": "code",
   "execution_count": 21,
   "metadata": {},
   "outputs": [
    {
     "name": "stdout",
     "output_type": "stream",
     "text": [
      "0 1 2 3 4 "
     ]
    }
   ],
   "source": [
    "var numbers = new int[]{0, 1, 2, 3, 4, 5, 6, 7, 8, 9};\n",
    "var smallNumbers = from n in numbers where n < 5 select n;\n",
    "\n",
    "foreach(var n in smallNumbers) {\n",
    "    Console.Write(n + \" \");\n",
    "}"
   ]
  },
  {
   "cell_type": "code",
   "execution_count": 23,
   "metadata": {},
   "outputs": [
    {
     "name": "stdout",
     "output_type": "stream",
     "text": [
      "0 1 2 3 4 "
     ]
    }
   ],
   "source": [
    "smallNumbers = numbers.Where(n => n < 5);\n",
    "foreach(var n in smallNumbers) {\n",
    "    Console.Write(n + \" \");\n",
    "}"
   ]
  },
  {
   "cell_type": "markdown",
   "metadata": {},
   "source": [
    "The select clause is removed because it is redundant. That’s safe because the select operates on an immediate result from another query expression (in this example, where). When the select does not operate on the immediate result of another expression, it cannot be optimized away. Consider this query:"
   ]
  },
  {
   "cell_type": "code",
   "execution_count": 24,
   "metadata": {},
   "outputs": [
    {
     "name": "stdout",
     "output_type": "stream",
     "text": [
      "0 1 2 3 4 5 6 7 8 9 "
     ]
    }
   ],
   "source": [
    "var allNumbers = from n in numbers select n;\n",
    "foreach(var n in allNumbers) {\n",
    "    Console.Write(n + \" \");\n",
    "}"
   ]
  },
  {
   "cell_type": "code",
   "execution_count": 25,
   "metadata": {},
   "outputs": [],
   "source": [
    "// it'll be translated into this method call...\n",
    "allNumbers = numbers.Select(n => n);"
   ]
  },
  {
   "cell_type": "markdown",
   "metadata": {},
   "source": [
    "Note that select is often used to transform or project one input element into a different element or into a different type."
   ]
  },
  {
   "cell_type": "code",
   "execution_count": 26,
   "metadata": {},
   "outputs": [
    {
     "name": "stdout",
     "output_type": "stream",
     "text": [
      "0 1 4 9 16 "
     ]
    }
   ],
   "source": [
    "var numbers = new int[]{0, 1, 2, 3, 4, 5, 6, 7, 8, 9};\n",
    "var smallNumbers = from n in numbers where n < 5 select n * n;\n",
    "foreach(var n in smallNumbers) {\n",
    "    Console.Write(n + \" \");\n",
    "}"
   ]
  },
  {
   "cell_type": "code",
   "execution_count": 31,
   "metadata": {},
   "outputs": [
    {
     "name": "stdout",
     "output_type": "stream",
     "text": [
      "{ Number = 0, Square = 0 }\n",
      "0 0\n",
      "{ Number = 1, Square = 1 }\n",
      "1 1\n",
      "{ Number = 2, Square = 4 }\n",
      "2 4\n",
      "{ Number = 3, Square = 9 }\n",
      "3 9\n",
      "{ Number = 4, Square = 16 }\n",
      "4 16\n"
     ]
    }
   ],
   "source": [
    "// or you could transform it into a different type\n",
    "var squares = from n in numbers where n < 5\n",
    "    select new {Number=n, Square=n*n};\n",
    "\n",
    "foreach(var item in squares) {\n",
    "    Console.WriteLine(item);\n",
    "    Console.WriteLine(item.Number + \" \" + item.Square);\n",
    "}"
   ]
  },
  {
   "cell_type": "code",
   "execution_count": 56,
   "metadata": {},
   "outputs": [
    {
     "name": "stdout",
     "output_type": "stream",
     "text": [
      "Bob Builder 32\n",
      "Jane Amber 33\n",
      "Mad Max 22\n",
      "Danny Boy 22\n"
     ]
    }
   ],
   "source": [
    "class Employee {\n",
    "    public readonly string FirstName;\n",
    "    public readonly string LastName;\n",
    "    public readonly int Age;\n",
    "    \n",
    "    public Employee(string FirstName, string LastName, int Age) {\n",
    "        this.FirstName = FirstName;\n",
    "        this.LastName = LastName;\n",
    "        this.Age = Age;\n",
    "    }\n",
    "    \n",
    "    public override string ToString() {\n",
    "        return $\"{this.FirstName} {this.LastName} {this.Age}\";\n",
    "    }\n",
    "}\n",
    "\n",
    "List<Employee> employees = new List<Employee>() {\n",
    "    new Employee(\"Bob\", \"Builder\", 32),\n",
    "    new Employee(\"Jane\", \"Amber\", 33),\n",
    "    new Employee(\"Mad\", \"Max\", 22),\n",
    "    new Employee(\"Danny\", \"Boy\", 22),\n",
    "};\n",
    "\n",
    "foreach(var employee in employees) {\n",
    "    Console.WriteLine(employee);\n",
    "}"
   ]
  },
  {
   "cell_type": "code",
   "execution_count": 57,
   "metadata": {},
   "outputs": [
    {
     "name": "stdout",
     "output_type": "stream",
     "text": [
      "Jane Amber 33\n",
      "Bob Builder 32\n"
     ]
    }
   ],
   "source": [
    "var people = from e in employees\n",
    "    where e.Age > 30\n",
    "    orderby e.LastName, e.FirstName, e.Age\n",
    "    select e;\n",
    "\n",
    "foreach(var employee in people) {\n",
    "    Console.WriteLine(employee);\n",
    "}"
   ]
  },
  {
   "cell_type": "code",
   "execution_count": 58,
   "metadata": {},
   "outputs": [
    {
     "name": "stdout",
     "output_type": "stream",
     "text": [
      "Bob Builder 32\n",
      "Jane Amber 33\n"
     ]
    }
   ],
   "source": [
    "// not correct, sorts the entire sequence three times...\n",
    "var people = from e in employees\n",
    "    where e.Age > 30\n",
    "    orderby e.LastName\n",
    "    orderby e.FirstName\n",
    "    orderby e.Age\n",
    "    select e;\n",
    "\n",
    "foreach(var employee in people) {\n",
    "    Console.WriteLine(employee);\n",
    "}"
   ]
  },
  {
   "cell_type": "code",
   "execution_count": 59,
   "metadata": {},
   "outputs": [
    {
     "name": "stdout",
     "output_type": "stream",
     "text": [
      "Bob Builder 32\n",
      "Jane Amber 33\n"
     ]
    }
   ],
   "source": [
    "// we also have the option of using descending...\n",
    "var people = from e in employees\n",
    "    where e.Age > 30\n",
    "    orderby e.LastName descending, e.FirstName, e.Age\n",
    "    select e;\n",
    "\n",
    "foreach(var employee in people) {\n",
    "    Console.WriteLine(employee);\n",
    "}"
   ]
  },
  {
   "cell_type": "code",
   "execution_count": 60,
   "metadata": {},
   "outputs": [
    {
     "name": "stdout",
     "output_type": "stream",
     "text": [
      "{ Department = 32, Size = 1 }\n",
      "{ Department = 33, Size = 1 }\n",
      "{ Department = 22, Size = 2 }\n"
     ]
    }
   ],
   "source": [
    "var results = from e in employees\n",
    "    group e by e.Age into d\n",
    "    select new \n",
    "    {\n",
    "        Department = d.Key,\n",
    "        Size = d.Count()\n",
    "    };\n",
    "\n",
    "foreach(var item in results) {\n",
    "    Console.WriteLine(item);\n",
    "}"
   ]
  },
  {
   "cell_type": "markdown",
   "metadata": {},
   "source": [
    "The final methods to understand are the SelectMany, Join and GroupJoin."
   ]
  },
  {
   "cell_type": "code",
   "execution_count": 65,
   "metadata": {},
   "outputs": [
    {
     "name": "stdout",
     "output_type": "stream",
     "text": [
      "{ oddNumber = 1, evenNumber = 2, Sum = 3 }\n",
      "{ oddNumber = 1, evenNumber = 4, Sum = 5 }\n",
      "{ oddNumber = 1, evenNumber = 6, Sum = 7 }\n",
      "{ oddNumber = 1, evenNumber = 8, Sum = 9 }\n",
      "{ oddNumber = 3, evenNumber = 2, Sum = 5 }\n",
      "{ oddNumber = 3, evenNumber = 4, Sum = 7 }\n",
      "{ oddNumber = 3, evenNumber = 6, Sum = 9 }\n",
      "{ oddNumber = 3, evenNumber = 8, Sum = 11 }\n",
      "{ oddNumber = 5, evenNumber = 2, Sum = 7 }\n",
      "{ oddNumber = 5, evenNumber = 4, Sum = 9 }\n",
      "{ oddNumber = 5, evenNumber = 6, Sum = 11 }\n",
      "{ oddNumber = 5, evenNumber = 8, Sum = 13 }\n",
      "{ oddNumber = 7, evenNumber = 2, Sum = 9 }\n",
      "{ oddNumber = 7, evenNumber = 4, Sum = 11 }\n",
      "{ oddNumber = 7, evenNumber = 6, Sum = 13 }\n",
      "{ oddNumber = 7, evenNumber = 8, Sum = 15 }\n"
     ]
    }
   ],
   "source": [
    "int[] odds = {1, 3, 5, 7};\n",
    "int[] evens = {2, 4, 6, 8};\n",
    "\n",
    "var pairs = from oddNumber in odds\n",
    "    from evenNumber in evens\n",
    "    select new {\n",
    "        oddNumber,\n",
    "        evenNumber,\n",
    "        Sum = oddNumber + evenNumber\n",
    "    };\n",
    "\n",
    "foreach(var item in pairs) {\n",
    "    Console.WriteLine(item);\n",
    "}"
   ]
  },
  {
   "cell_type": "code",
   "execution_count": 67,
   "metadata": {},
   "outputs": [
    {
     "name": "stdout",
     "output_type": "stream",
     "text": [
      "{ oddNumber = 1, evenNumber = 2, Sum = 3 }\n",
      "{ oddNumber = 1, evenNumber = 4, Sum = 5 }\n",
      "{ oddNumber = 1, evenNumber = 6, Sum = 7 }\n",
      "{ oddNumber = 1, evenNumber = 8, Sum = 9 }\n",
      "{ oddNumber = 3, evenNumber = 2, Sum = 5 }\n",
      "{ oddNumber = 3, evenNumber = 4, Sum = 7 }\n",
      "{ oddNumber = 3, evenNumber = 6, Sum = 9 }\n",
      "{ oddNumber = 3, evenNumber = 8, Sum = 11 }\n",
      "{ oddNumber = 5, evenNumber = 2, Sum = 7 }\n",
      "{ oddNumber = 5, evenNumber = 4, Sum = 9 }\n",
      "{ oddNumber = 5, evenNumber = 6, Sum = 11 }\n",
      "{ oddNumber = 5, evenNumber = 8, Sum = 13 }\n",
      "{ oddNumber = 7, evenNumber = 2, Sum = 9 }\n",
      "{ oddNumber = 7, evenNumber = 4, Sum = 11 }\n",
      "{ oddNumber = 7, evenNumber = 6, Sum = 13 }\n",
      "{ oddNumber = 7, evenNumber = 8, Sum = 15 }\n"
     ]
    }
   ],
   "source": [
    "var values = odds.SelectMany( oddNumber => evens,\n",
    "    (oddNumber, evenNumber) => \n",
    "    new {\n",
    "        oddNumber,\n",
    "        evenNumber,\n",
    "        Sum = oddNumber + evenNumber\n",
    "    }\n",
    ");\n",
    "\n",
    "foreach(var item in values) {\n",
    "    Console.WriteLine(item);\n",
    "}"
   ]
  },
  {
   "cell_type": "code",
   "execution_count": 70,
   "metadata": {},
   "outputs": [
    {
     "name": "stdout",
     "output_type": "stream",
     "text": [
      "{ num = 0, label = 0 }\n",
      "{ num = 1, label = 1 }\n",
      "{ num = 2, label = 2 }\n",
      "{ num = 3, label = 3 }\n",
      "{ num = 4, label = 4 }\n",
      "{ num = 5, label = 5 }\n"
     ]
    }
   ],
   "source": [
    "var numbers = new int[] {0, 1, 2, 3, 4, 5, 6, 7, 8, 9};\n",
    "var labels = new string[] {\"0\", \"1\", \"2\", \"3\", \"4\", \"5\"};\n",
    "\n",
    "var query = from num in numbers\n",
    "    join label in labels on num.ToString() equals label\n",
    "    select new {num, label};\n",
    "\n",
    "foreach(var item in query) {\n",
    "    Console.WriteLine(item);\n",
    "}"
   ]
  },
  {
   "cell_type": "markdown",
   "metadata": {},
   "source": [
    "### Item 37: Prefer Lazy Evaluation to Eager Evaluation in Queries"
   ]
  },
  {
   "cell_type": "code",
   "execution_count": null,
   "metadata": {},
   "outputs": [],
   "source": []
  }
 ],
 "metadata": {
  "kernelspec": {
   "display_name": ".NET (C#)",
   "language": "C#",
   "name": ".net-csharp"
  },
  "language_info": {
   "file_extension": ".cs",
   "mimetype": "text/x-csharp",
   "name": "C#",
   "pygments_lexer": "csharp",
   "version": "8.0"
  }
 },
 "nbformat": 4,
 "nbformat_minor": 2
}
