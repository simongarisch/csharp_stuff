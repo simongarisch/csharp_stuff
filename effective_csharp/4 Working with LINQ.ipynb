{
 "cells": [
  {
   "cell_type": "markdown",
   "metadata": {},
   "source": [
    "## Working with LINQ"
   ]
  },
  {
   "cell_type": "markdown",
   "metadata": {},
   "source": [
    "### Item 29: Prefer Iterator Methods to Returning Collections\n"
   ]
  },
  {
   "cell_type": "code",
   "execution_count": 1,
   "metadata": {},
   "outputs": [],
   "source": [
    "public static IEnumerable<char> GenerateAlphabet() {\n",
    "    var letter = 'a';\n",
    "    while (letter <= 'z') {\n",
    "        yield return letter;\n",
    "        letter++;\n",
    "    }\n",
    "}"
   ]
  },
  {
   "cell_type": "code",
   "execution_count": 3,
   "metadata": {},
   "outputs": [
    {
     "name": "stdout",
     "output_type": "stream",
     "text": [
      "a b c d e f g h i j k l m n o p q r s t u v w x y z "
     ]
    }
   ],
   "source": [
    "using System;\n",
    "\n",
    "foreach(char c in GenerateAlphabet()) {\n",
    "    Console.Write(c + \" \");\n",
    "}"
   ]
  },
  {
   "cell_type": "code",
   "execution_count": 4,
   "metadata": {},
   "outputs": [],
   "source": [
    "var allNumbers = Enumerable.Range(0, int.MaxValue);"
   ]
  },
  {
   "cell_type": "markdown",
   "metadata": {},
   "source": [
    "TThis generate-as-needed strategy highlights one other important idiom when writing iterator methods. Iterator methods create an object that knows how to generate the sequence. The code to generate the sequence executes only when a caller requests an item in the sequence. That means very little of the code executes when a generator method is called."
   ]
  },
  {
   "cell_type": "markdown",
   "metadata": {},
   "source": [
    "### Item 30: Prefer Query Syntax to Loops"
   ]
  },
  {
   "cell_type": "code",
   "execution_count": 8,
   "metadata": {},
   "outputs": [
    {
     "name": "stdout",
     "output_type": "stream",
     "text": [
      "0 1 4 9 16 25 36 49 64 81 100 "
     ]
    }
   ],
   "source": [
    "// looping approach\n",
    "var foo = new int[11];\n",
    "for (var num=0; num<foo.Length; num++) {\n",
    "    foo[num] = num * num;\n",
    "}\n",
    "\n",
    "foreach(var i in foo) {\n",
    "    Console.Write(i + \" \");\n",
    "}"
   ]
  },
  {
   "cell_type": "code",
   "execution_count": 18,
   "metadata": {},
   "outputs": [
    {
     "name": "stdout",
     "output_type": "stream",
     "text": [
      "0 1 4 9 16 25 36 49 64 81 100 "
     ]
    }
   ],
   "source": [
    "// query syntax\n",
    "var foo = (from n in Enumerable.Range(0, 11) select n * n).ToArray();\n",
    "Array.ForEach(foo, n => Console.Write(n + \" \"));"
   ]
  },
  {
   "cell_type": "markdown",
   "metadata": {},
   "source": [
    "We can create our own ForAll implementation..."
   ]
  },
  {
   "cell_type": "code",
   "execution_count": null,
   "metadata": {},
   "outputs": [],
   "source": [
    "public static class Extensions { // will need to do this outside of jupyter...\n",
    "    public static void ForAll<T>(this IEnumerable<T> sequence, Action<T> action) {\n",
    "        foreach(T item in sequence) {\n",
    "            action(item);\n",
    "        }\n",
    "    }\n",
    "}"
   ]
  },
  {
   "cell_type": "markdown",
   "metadata": {},
   "source": [
    "Change the problem to generating only those pairs where the sum of X and Y is less than 5."
   ]
  },
  {
   "cell_type": "code",
   "execution_count": 26,
   "metadata": {},
   "outputs": [
    {
     "name": "stdout",
     "output_type": "stream",
     "text": [
      "(0, 0)\n",
      "(0, 1)\n",
      "(0, 2)\n",
      "(0, 3)\n",
      "(0, 4)\n",
      "(1, 0)\n",
      "(1, 1)\n",
      "(1, 2)\n",
      "(1, 3)\n",
      "(2, 0)\n",
      "(2, 1)\n",
      "(2, 2)\n",
      "(3, 0)\n",
      "(3, 1)\n",
      "(4, 0)\n"
     ]
    }
   ],
   "source": [
    "private static IEnumerable<Tuple<int, int>> ProduceIndices() {\n",
    "    for (var x = 0; x < 100; x++)\n",
    "        for (var y = 0; y < 100; y++)\n",
    "            if (x + y < 5)\n",
    "                yield return Tuple.Create(x, y);\n",
    "}\n",
    "\n",
    "var indices = ProduceIndices();\n",
    "foreach(var item in indices) {\n",
    "    Console.WriteLine(item);\n",
    "}"
   ]
  },
  {
   "cell_type": "code",
   "execution_count": 27,
   "metadata": {},
   "outputs": [
    {
     "name": "stdout",
     "output_type": "stream",
     "text": [
      "(0, 0)\n",
      "(0, 1)\n",
      "(0, 2)\n",
      "(0, 3)\n",
      "(0, 4)\n",
      "(1, 0)\n",
      "(1, 1)\n",
      "(1, 2)\n",
      "(1, 3)\n",
      "(2, 0)\n",
      "(2, 1)\n",
      "(2, 2)\n",
      "(3, 0)\n",
      "(3, 1)\n",
      "(4, 0)\n"
     ]
    }
   ],
   "source": [
    "private static IEnumerable<Tuple<int, int>> QueryIndices() {\n",
    "    return from x in Enumerable.Range(0, 100)\n",
    "            from y in Enumerable.Range(0, 100)\n",
    "            where x + y < 5\n",
    "            select Tuple.Create(x, y);\n",
    "}\n",
    "\n",
    "var indices = QueryIndices();\n",
    "foreach(var item in indices) {\n",
    "    Console.WriteLine(item);\n",
    "}"
   ]
  },
  {
   "cell_type": "markdown",
   "metadata": {},
   "source": [
    "### Item 31: Create Composable APIs for Sequences\n",
    "To see the benefits of writing iterator methods, let’s take a simple example and examine the translation."
   ]
  },
  {
   "cell_type": "code",
   "execution_count": 31,
   "metadata": {},
   "outputs": [],
   "source": [
    "using System;\n",
    "using System.Collections.Generic;\n",
    "\n",
    "public static void Unique(IEnumerable<int> nums) {\n",
    "    var uniqueVals = new HashSet<int>();\n",
    "    \n",
    "    foreach(var num in nums) {\n",
    "        if (!uniqueVals.Contains(num)) {\n",
    "            uniqueVals.Add(num);\n",
    "            Console.WriteLine(num);\n",
    "        }\n",
    "    }\n",
    "}"
   ]
  },
  {
   "cell_type": "code",
   "execution_count": 32,
   "metadata": {},
   "outputs": [],
   "source": [
    "// suppose that you instead wrote it this way...\n",
    "public static IEnumerable<int> UniqueV2(IEnumerable<int> nums) {\n",
    "    var uniqueVals = new HashSet<int>();\n",
    "    foreach(var num in nums) {\n",
    "        if (!uniqueVals.Contains(num)) {\n",
    "            uniqueVals.Add(num);\n",
    "            yield return num;\n",
    "        }\n",
    "    }\n",
    "}"
   ]
  },
  {
   "cell_type": "code",
   "execution_count": 35,
   "metadata": {},
   "outputs": [
    {
     "name": "stdout",
     "output_type": "stream",
     "text": [
      "1 2 3 4 5 "
     ]
    }
   ],
   "source": [
    "var nums = new int[] {1, 2, 2, 3, 4, 5, 5};\n",
    "foreach(var num in UniqueV2(nums)) {\n",
    "    Console.Write(num + \" \");\n",
    "}"
   ]
  },
  {
   "cell_type": "markdown",
   "metadata": {},
   "source": [
    "### Item 32: Decouple Iterations from Actions, Predicates, and Functions"
   ]
  },
  {
   "cell_type": "code",
   "execution_count": 11,
   "metadata": {},
   "outputs": [
    {
     "name": "stdout",
     "output_type": "stream",
     "text": [
      "2 12 22 32 42 "
     ]
    }
   ],
   "source": [
    "// you might write like this\n",
    "\n",
    "public List<int> CreateSequence(int numberOfElements, int startAt, int stepBy) {\n",
    "    var collection = new List<int>(numberOfElements);\n",
    "    for (int i=0; i<numberOfElements; i++) {\n",
    "        collection.Add(startAt + i*stepBy);\n",
    "    }\n",
    "    return collection;\n",
    "}   \n",
    "\n",
    "\n",
    "var myList = CreateSequence(5, 2, 10);\n",
    "foreach(var element in myList) {\n",
    "    Console.Write(element + \" \");\n",
    "}"
   ]
  },
  {
   "cell_type": "code",
   "execution_count": 12,
   "metadata": {},
   "outputs": [
    {
     "name": "stdout",
     "output_type": "stream",
     "text": [
      "2 12 22 32 42 "
     ]
    }
   ],
   "source": [
    "// you can remove limitations by making the generation function an iterator method\n",
    "public IEnumerable<int> CreateSequence2(int numberOfElements, int startAt, int stepBy) {\n",
    "    for(var i=0; i<numberOfElements; i++) {\n",
    "        yield return startAt + i * stepBy;\n",
    "    }\n",
    "}\n",
    "\n",
    "\n",
    "var myList = CreateSequence2(5, 2, 10);\n",
    "foreach(var element in myList) {\n",
    "    Console.Write(element + \" \");\n",
    "}"
   ]
  },
  {
   "cell_type": "markdown",
   "metadata": {},
   "source": [
    "### Item 34: Loosen Coupling by Using Function Parameters\n",
    "Creating interfaces and coding against them results in looser coupling than does relying on base classes. There are only two important differences: First, using an interface does not enforce any class hierarchy on your users. But second, you can’t easily provide a default implementation for any of the behavior necessary for client code.\n",
    "\n",
    "Do you really need to define an interface? Or will a more loosely coupled approach, such as defining a delegate signature, be better?"
   ]
  },
  {
   "cell_type": "code",
   "execution_count": 18,
   "metadata": {},
   "outputs": [
    {
     "name": "stdout",
     "output_type": "stream",
     "text": [
      "14 25 36 "
     ]
    }
   ],
   "source": [
    "// one approach\n",
    "public static IEnumerable<string> Zip(IEnumerable<string> first, IEnumerable<string> second) {\n",
    "    using (var firstSequence = first.GetEnumerator()) {\n",
    "        using (var secondSequence = second.GetEnumerator()) {\n",
    "            while (firstSequence.MoveNext() && secondSequence.MoveNext()) {\n",
    "                yield return string.Format(\"{0}{1}\", firstSequence.Current, secondSequence.Current);\n",
    "            }\n",
    "        }\n",
    "    }\n",
    "}\n",
    "\n",
    "var l1 = new List<string>{\"1\", \"2\", \"3\"};\n",
    "var l2 = new List<string>{\"4\", \"5\", \"6\"};\n",
    "\n",
    "foreach(var item in Zip(l1, l2)) {\n",
    "    Console.Write(item + \" \");\n",
    "}"
   ]
  },
  {
   "cell_type": "code",
   "execution_count": 23,
   "metadata": {},
   "outputs": [
    {
     "name": "stdout",
     "output_type": "stream",
     "text": [
      "14 25 36 "
     ]
    }
   ],
   "source": [
    "// alternatively\n",
    "public static IEnumerable<string> Zip2(\n",
    "    IEnumerable<string> first,\n",
    "    IEnumerable<string> second,\n",
    "    Func<string, string, string> zipper\n",
    ") {\n",
    "     using (var firstSequence = first.GetEnumerator()) {\n",
    "         using (var secondSequence = second.GetEnumerator()) {\n",
    "             while (firstSequence.MoveNext() && secondSequence.MoveNext()) {\n",
    "                 yield return zipper(firstSequence.Current, secondSequence.Current);\n",
    "             }\n",
    "         }\n",
    "     }\n",
    "}\n",
    "\n",
    "\n",
    "var result = Zip2(l1, l2, (one, two) => string.Format(\"{0}{1}\", one, two));\n",
    "foreach(var item in result) {\n",
    "    Console.Write(item + \" \");\n",
    "}"
   ]
  },
  {
   "cell_type": "markdown",
   "metadata": {},
   "source": [
    "### Item 35: Never Overload Extension Methods"
   ]
  },
  {
   "cell_type": "markdown",
   "metadata": {},
   "source": [
    "### Item 36: Understand How Query Expressions Map to Method Calls\n",
    "\n",
    "LINQ is built on two concepts: a query language, and a translation from that query language into a set of methods. The C# compiler converts query expressions written in that query language into method calls."
   ]
  },
  {
   "cell_type": "code",
   "execution_count": 21,
   "metadata": {},
   "outputs": [
    {
     "name": "stdout",
     "output_type": "stream",
     "text": [
      "0 1 2 3 4 "
     ]
    }
   ],
   "source": [
    "var numbers = new int[]{0, 1, 2, 3, 4, 5, 6, 7, 8, 9};\n",
    "var smallNumbers = from n in numbers where n < 5 select n;\n",
    "\n",
    "foreach(var n in smallNumbers) {\n",
    "    Console.Write(n + \" \");\n",
    "}"
   ]
  },
  {
   "cell_type": "code",
   "execution_count": 23,
   "metadata": {},
   "outputs": [
    {
     "name": "stdout",
     "output_type": "stream",
     "text": [
      "0 1 2 3 4 "
     ]
    }
   ],
   "source": [
    "smallNumbers = numbers.Where(n => n < 5);\n",
    "foreach(var n in smallNumbers) {\n",
    "    Console.Write(n + \" \");\n",
    "}"
   ]
  },
  {
   "cell_type": "markdown",
   "metadata": {},
   "source": [
    "The select clause is removed because it is redundant. That’s safe because the select operates on an immediate result from another query expression (in this example, where). When the select does not operate on the immediate result of another expression, it cannot be optimized away. Consider this query:"
   ]
  },
  {
   "cell_type": "code",
   "execution_count": 24,
   "metadata": {},
   "outputs": [
    {
     "name": "stdout",
     "output_type": "stream",
     "text": [
      "0 1 2 3 4 5 6 7 8 9 "
     ]
    }
   ],
   "source": [
    "var allNumbers = from n in numbers select n;\n",
    "foreach(var n in allNumbers) {\n",
    "    Console.Write(n + \" \");\n",
    "}"
   ]
  },
  {
   "cell_type": "code",
   "execution_count": 25,
   "metadata": {},
   "outputs": [],
   "source": [
    "// it'll be translated into this method call...\n",
    "allNumbers = numbers.Select(n => n);"
   ]
  },
  {
   "cell_type": "markdown",
   "metadata": {},
   "source": [
    "Note that select is often used to transform or project one input element into a different element or into a different type."
   ]
  },
  {
   "cell_type": "code",
   "execution_count": 26,
   "metadata": {},
   "outputs": [
    {
     "name": "stdout",
     "output_type": "stream",
     "text": [
      "0 1 4 9 16 "
     ]
    }
   ],
   "source": [
    "var numbers = new int[]{0, 1, 2, 3, 4, 5, 6, 7, 8, 9};\n",
    "var smallNumbers = from n in numbers where n < 5 select n * n;\n",
    "foreach(var n in smallNumbers) {\n",
    "    Console.Write(n + \" \");\n",
    "}"
   ]
  },
  {
   "cell_type": "code",
   "execution_count": 31,
   "metadata": {},
   "outputs": [
    {
     "name": "stdout",
     "output_type": "stream",
     "text": [
      "{ Number = 0, Square = 0 }\n",
      "0 0\n",
      "{ Number = 1, Square = 1 }\n",
      "1 1\n",
      "{ Number = 2, Square = 4 }\n",
      "2 4\n",
      "{ Number = 3, Square = 9 }\n",
      "3 9\n",
      "{ Number = 4, Square = 16 }\n",
      "4 16\n"
     ]
    }
   ],
   "source": [
    "// or you could transform it into a different type\n",
    "var squares = from n in numbers where n < 5\n",
    "    select new {Number=n, Square=n*n};\n",
    "\n",
    "foreach(var item in squares) {\n",
    "    Console.WriteLine(item);\n",
    "    Console.WriteLine(item.Number + \" \" + item.Square);\n",
    "}"
   ]
  },
  {
   "cell_type": "code",
   "execution_count": 56,
   "metadata": {},
   "outputs": [
    {
     "name": "stdout",
     "output_type": "stream",
     "text": [
      "Bob Builder 32\n",
      "Jane Amber 33\n",
      "Mad Max 22\n",
      "Danny Boy 22\n"
     ]
    }
   ],
   "source": [
    "class Employee {\n",
    "    public readonly string FirstName;\n",
    "    public readonly string LastName;\n",
    "    public readonly int Age;\n",
    "    \n",
    "    public Employee(string FirstName, string LastName, int Age) {\n",
    "        this.FirstName = FirstName;\n",
    "        this.LastName = LastName;\n",
    "        this.Age = Age;\n",
    "    }\n",
    "    \n",
    "    public override string ToString() {\n",
    "        return $\"{this.FirstName} {this.LastName} {this.Age}\";\n",
    "    }\n",
    "}\n",
    "\n",
    "List<Employee> employees = new List<Employee>() {\n",
    "    new Employee(\"Bob\", \"Builder\", 32),\n",
    "    new Employee(\"Jane\", \"Amber\", 33),\n",
    "    new Employee(\"Mad\", \"Max\", 22),\n",
    "    new Employee(\"Danny\", \"Boy\", 22),\n",
    "};\n",
    "\n",
    "foreach(var employee in employees) {\n",
    "    Console.WriteLine(employee);\n",
    "}"
   ]
  },
  {
   "cell_type": "code",
   "execution_count": 57,
   "metadata": {},
   "outputs": [
    {
     "name": "stdout",
     "output_type": "stream",
     "text": [
      "Jane Amber 33\n",
      "Bob Builder 32\n"
     ]
    }
   ],
   "source": [
    "var people = from e in employees\n",
    "    where e.Age > 30\n",
    "    orderby e.LastName, e.FirstName, e.Age\n",
    "    select e;\n",
    "\n",
    "foreach(var employee in people) {\n",
    "    Console.WriteLine(employee);\n",
    "}"
   ]
  },
  {
   "cell_type": "code",
   "execution_count": 58,
   "metadata": {},
   "outputs": [
    {
     "name": "stdout",
     "output_type": "stream",
     "text": [
      "Bob Builder 32\n",
      "Jane Amber 33\n"
     ]
    }
   ],
   "source": [
    "// not correct, sorts the entire sequence three times...\n",
    "var people = from e in employees\n",
    "    where e.Age > 30\n",
    "    orderby e.LastName\n",
    "    orderby e.FirstName\n",
    "    orderby e.Age\n",
    "    select e;\n",
    "\n",
    "foreach(var employee in people) {\n",
    "    Console.WriteLine(employee);\n",
    "}"
   ]
  },
  {
   "cell_type": "code",
   "execution_count": 59,
   "metadata": {},
   "outputs": [
    {
     "name": "stdout",
     "output_type": "stream",
     "text": [
      "Bob Builder 32\n",
      "Jane Amber 33\n"
     ]
    }
   ],
   "source": [
    "// we also have the option of using descending...\n",
    "var people = from e in employees\n",
    "    where e.Age > 30\n",
    "    orderby e.LastName descending, e.FirstName, e.Age\n",
    "    select e;\n",
    "\n",
    "foreach(var employee in people) {\n",
    "    Console.WriteLine(employee);\n",
    "}"
   ]
  },
  {
   "cell_type": "code",
   "execution_count": 60,
   "metadata": {},
   "outputs": [
    {
     "name": "stdout",
     "output_type": "stream",
     "text": [
      "{ Department = 32, Size = 1 }\n",
      "{ Department = 33, Size = 1 }\n",
      "{ Department = 22, Size = 2 }\n"
     ]
    }
   ],
   "source": [
    "var results = from e in employees\n",
    "    group e by e.Age into d\n",
    "    select new \n",
    "    {\n",
    "        Department = d.Key,\n",
    "        Size = d.Count()\n",
    "    };\n",
    "\n",
    "foreach(var item in results) {\n",
    "    Console.WriteLine(item);\n",
    "}"
   ]
  },
  {
   "cell_type": "markdown",
   "metadata": {},
   "source": [
    "The final methods to understand are the SelectMany, Join and GroupJoin."
   ]
  },
  {
   "cell_type": "code",
   "execution_count": 65,
   "metadata": {},
   "outputs": [
    {
     "name": "stdout",
     "output_type": "stream",
     "text": [
      "{ oddNumber = 1, evenNumber = 2, Sum = 3 }\n",
      "{ oddNumber = 1, evenNumber = 4, Sum = 5 }\n",
      "{ oddNumber = 1, evenNumber = 6, Sum = 7 }\n",
      "{ oddNumber = 1, evenNumber = 8, Sum = 9 }\n",
      "{ oddNumber = 3, evenNumber = 2, Sum = 5 }\n",
      "{ oddNumber = 3, evenNumber = 4, Sum = 7 }\n",
      "{ oddNumber = 3, evenNumber = 6, Sum = 9 }\n",
      "{ oddNumber = 3, evenNumber = 8, Sum = 11 }\n",
      "{ oddNumber = 5, evenNumber = 2, Sum = 7 }\n",
      "{ oddNumber = 5, evenNumber = 4, Sum = 9 }\n",
      "{ oddNumber = 5, evenNumber = 6, Sum = 11 }\n",
      "{ oddNumber = 5, evenNumber = 8, Sum = 13 }\n",
      "{ oddNumber = 7, evenNumber = 2, Sum = 9 }\n",
      "{ oddNumber = 7, evenNumber = 4, Sum = 11 }\n",
      "{ oddNumber = 7, evenNumber = 6, Sum = 13 }\n",
      "{ oddNumber = 7, evenNumber = 8, Sum = 15 }\n"
     ]
    }
   ],
   "source": [
    "int[] odds = {1, 3, 5, 7};\n",
    "int[] evens = {2, 4, 6, 8};\n",
    "\n",
    "var pairs = from oddNumber in odds\n",
    "    from evenNumber in evens\n",
    "    select new {\n",
    "        oddNumber,\n",
    "        evenNumber,\n",
    "        Sum = oddNumber + evenNumber\n",
    "    };\n",
    "\n",
    "foreach(var item in pairs) {\n",
    "    Console.WriteLine(item);\n",
    "}"
   ]
  },
  {
   "cell_type": "code",
   "execution_count": 67,
   "metadata": {},
   "outputs": [
    {
     "name": "stdout",
     "output_type": "stream",
     "text": [
      "{ oddNumber = 1, evenNumber = 2, Sum = 3 }\n",
      "{ oddNumber = 1, evenNumber = 4, Sum = 5 }\n",
      "{ oddNumber = 1, evenNumber = 6, Sum = 7 }\n",
      "{ oddNumber = 1, evenNumber = 8, Sum = 9 }\n",
      "{ oddNumber = 3, evenNumber = 2, Sum = 5 }\n",
      "{ oddNumber = 3, evenNumber = 4, Sum = 7 }\n",
      "{ oddNumber = 3, evenNumber = 6, Sum = 9 }\n",
      "{ oddNumber = 3, evenNumber = 8, Sum = 11 }\n",
      "{ oddNumber = 5, evenNumber = 2, Sum = 7 }\n",
      "{ oddNumber = 5, evenNumber = 4, Sum = 9 }\n",
      "{ oddNumber = 5, evenNumber = 6, Sum = 11 }\n",
      "{ oddNumber = 5, evenNumber = 8, Sum = 13 }\n",
      "{ oddNumber = 7, evenNumber = 2, Sum = 9 }\n",
      "{ oddNumber = 7, evenNumber = 4, Sum = 11 }\n",
      "{ oddNumber = 7, evenNumber = 6, Sum = 13 }\n",
      "{ oddNumber = 7, evenNumber = 8, Sum = 15 }\n"
     ]
    }
   ],
   "source": [
    "var values = odds.SelectMany( oddNumber => evens,\n",
    "    (oddNumber, evenNumber) => \n",
    "    new {\n",
    "        oddNumber,\n",
    "        evenNumber,\n",
    "        Sum = oddNumber + evenNumber\n",
    "    }\n",
    ");\n",
    "\n",
    "foreach(var item in values) {\n",
    "    Console.WriteLine(item);\n",
    "}"
   ]
  },
  {
   "cell_type": "code",
   "execution_count": 70,
   "metadata": {},
   "outputs": [
    {
     "name": "stdout",
     "output_type": "stream",
     "text": [
      "{ num = 0, label = 0 }\n",
      "{ num = 1, label = 1 }\n",
      "{ num = 2, label = 2 }\n",
      "{ num = 3, label = 3 }\n",
      "{ num = 4, label = 4 }\n",
      "{ num = 5, label = 5 }\n"
     ]
    }
   ],
   "source": [
    "var numbers = new int[] {0, 1, 2, 3, 4, 5, 6, 7, 8, 9};\n",
    "var labels = new string[] {\"0\", \"1\", \"2\", \"3\", \"4\", \"5\"};\n",
    "\n",
    "var query = from num in numbers\n",
    "    join label in labels on num.ToString() equals label\n",
    "    select new {num, label};\n",
    "\n",
    "foreach(var item in query) {\n",
    "    Console.WriteLine(item);\n",
    "}"
   ]
  },
  {
   "cell_type": "markdown",
   "metadata": {},
   "source": [
    "### Item 37: Prefer Lazy Evaluation to Eager Evaluation in Queries\n",
    "Let's start with an example to explain the difference between lazy and eager evaluation."
   ]
  },
  {
   "cell_type": "code",
   "execution_count": 10,
   "metadata": {},
   "outputs": [
    {
     "name": "stdout",
     "output_type": "stream",
     "text": [
      "Start time for Test One: 4:44:09 PM\n",
      "Waiting....\n",
      "Iterating...\n",
      "4:44:10 PM\n",
      "4:44:10 PM\n",
      "4:44:10 PM\n",
      "4:44:10 PM\n",
      "4:44:10 PM\n",
      "4:44:10 PM\n",
      "4:44:10 PM\n",
      "4:44:10 PM\n",
      "4:44:10 PM\n",
      "4:44:10 PM\n",
      "Waiting....\t\n",
      "Iterating...\n",
      "4:44:11 PM\n",
      "4:44:11 PM\n",
      "4:44:11 PM\n",
      "4:44:11 PM\n",
      "4:44:11 PM\n",
      "4:44:11 PM\n",
      "4:44:11 PM\n",
      "4:44:11 PM\n",
      "4:44:11 PM\n",
      "4:44:11 PM\n"
     ]
    }
   ],
   "source": [
    "using System;\n",
    "using System.Threading;\n",
    "\n",
    "\n",
    "public class Example {\n",
    "    public static IEnumerable<TResult> Generate<TResult>(int number, Func<TResult> generator) {\n",
    "        for (var i=0; i<number; i++) {\n",
    "            yield return generator();\n",
    "        }\n",
    "    }\n",
    "    \n",
    "    public static void LazyEvaluation() {\n",
    "        Console.WriteLine($\"Start time for Test One: {DateTime.Now:T}\");\n",
    "        var sequence = Generate(10, () => DateTime.Now);\n",
    "        Console.WriteLine(\"Waiting....\");\n",
    "        Thread.Sleep(1000);\n",
    "        \n",
    "        Console.WriteLine(\"Iterating...\");\n",
    "        foreach (var value in sequence) {\n",
    "            Console.WriteLine($\"{value:T}\");\n",
    "        }\n",
    "        \n",
    "        Console.WriteLine(\"Waiting....\\t\");\n",
    "        Thread.Sleep(1000);\n",
    "        \n",
    "        Console.WriteLine(\"Iterating...\");\n",
    "        foreach(var value in sequence) {\n",
    "            Console.WriteLine($\"{value:T}\");\n",
    "        }\n",
    "    }\n",
    "}\n",
    "\n",
    "Example.LazyEvaluation();"
   ]
  },
  {
   "cell_type": "markdown",
   "metadata": {},
   "source": [
    "In this example of lazy evaluation, notice that the sequence is generated each time it is iterated, as evidenced by the different time stamps. The sequence variable does not hold the elements created. Rather, it holds the expression tree that can create the sequence."
   ]
  },
  {
   "cell_type": "code",
   "execution_count": 13,
   "metadata": {},
   "outputs": [
    {
     "name": "stdout",
     "output_type": "stream",
     "text": [
      "26/06/2021 6:44:47 AM\n",
      "26/06/2021 6:44:47 AM\n",
      "26/06/2021 6:44:47 AM\n",
      "26/06/2021 6:44:47 AM\n"
     ]
    }
   ],
   "source": [
    "var sequence1 = Example.Generate(4, () => DateTime.Now);\n",
    "var sequence2 = from value in sequence1 select value.ToUniversalTime();\n",
    "\n",
    "foreach(var item in sequence2) {\n",
    "    Console.WriteLine(item);\n",
    "}"
   ]
  },
  {
   "cell_type": "markdown",
   "metadata": {},
   "source": [
    "Sequence 1 and sequence 2 share functional composition, not data. Sequence 2 is not built by enumerating the values in sequence 1 and modifying each value. Rather, it is created by executing the code that produces sequence 1, followed by the code that produces sequence2.\n",
    "\n",
    "Consider this small program..."
   ]
  },
  {
   "cell_type": "code",
   "execution_count": 2,
   "metadata": {},
   "outputs": [
    {
     "name": "stdout",
     "output_type": "stream",
     "text": [
      "0 1 2 3 4 5 6 7 8 9 "
     ]
    }
   ],
   "source": [
    "static IEnumerable<int> AllNumbers() {\n",
    "    var number = 0;\n",
    "    while (number < int.MaxValue) {\n",
    "        yield return number++;\n",
    "    }\n",
    "}\n",
    "\n",
    "public static void AnotherExample() {\n",
    "    var answers = from number in AllNumbers() select number;\n",
    "    var smallNumbers = answers.Take(10);\n",
    "    foreach(var num in smallNumbers) {\n",
    "        Console.Write(num + \" \");\n",
    "    }\n",
    "}\n",
    "\n",
    "AnotherExample();"
   ]
  },
  {
   "cell_type": "markdown",
   "metadata": {},
   "source": [
    "This sample illustrates what I mean about a method that does not need the full sequence. The reason this works as quickly as it does is that the entire sequence is not needed. The Take() method returns the first N objects from the sequence, so nothing else matters. You can rewrite this query to run forever...\n",
    "\n",
    "For example, the following two queries produce the same result. However, the second query may execute faster. Sophisticated providers will optimize the query, and both queries will have the same performance metrics. However, in the LINQ to Objects implementation (provided by System.Linq.Enumerable), all products are read and sorted."
   ]
  },
  {
   "cell_type": "code",
   "execution_count": 7,
   "metadata": {},
   "outputs": [
    {
     "name": "stdout",
     "output_type": "stream",
     "text": [
      "Toothbrush: 11\r\n"
     ]
    }
   ],
   "source": [
    "public class Product {\n",
    "    public readonly string Name;\n",
    "    public int UnitsInStock {get; set;}\n",
    "    \n",
    "    public Product(string Name, int UnitsInStock) {\n",
    "        this.Name = Name;\n",
    "        this.UnitsInStock = UnitsInStock;\n",
    "    }\n",
    "    \n",
    "    public override string ToString() {\n",
    "        return this.Name + \": \" + this.UnitsInStock.ToString();\n",
    "    }\n",
    "}\n",
    "\n",
    "var product = new Product(\"Toothbrush\", 11);\n",
    "Console.WriteLine(product.ToString());"
   ]
  },
  {
   "cell_type": "code",
   "execution_count": 9,
   "metadata": {},
   "outputs": [],
   "source": [
    "var products = new List<Product> {\n",
    "    new Product(\"Toothbrush\", 11),\n",
    "    new Product(\"Floss\", 7),\n",
    "    new Product(\"Shampoo\", 3),\n",
    "    new Product(\"Soap\", 17),\n",
    "    new Product(\"Nail Clippers\", 1)\n",
    "};"
   ]
  },
  {
   "cell_type": "code",
   "execution_count": 10,
   "metadata": {},
   "outputs": [
    {
     "name": "stdout",
     "output_type": "stream",
     "text": [
      "Soap: 17\n",
      "Toothbrush: 11\n"
     ]
    }
   ],
   "source": [
    "var sortedProductsSlow = from p in products\n",
    "    orderby p.UnitsInStock descending\n",
    "    where p.UnitsInStock > 10\n",
    "    select p;\n",
    "    \n",
    "foreach(var item in sortedProductsSlow) {\n",
    "    Console.WriteLine(item);\n",
    "}"
   ]
  },
  {
   "cell_type": "code",
   "execution_count": 11,
   "metadata": {},
   "outputs": [
    {
     "name": "stdout",
     "output_type": "stream",
     "text": [
      "Soap: 17\n",
      "Toothbrush: 11\n"
     ]
    }
   ],
   "source": [
    "// Filter before order\n",
    "var sortedProductsFast = from p in products\n",
    "    where p.UnitsInStock > 10\n",
    "    orderby p.UnitsInStock descending\n",
    "    select p;\n",
    "\n",
    "foreach(var item in sortedProductsFast) {\n",
    "    Console.WriteLine(item);\n",
    "}"
   ]
  },
  {
   "cell_type": "markdown",
   "metadata": {},
   "source": [
    "Notice that the first query sorts the entire series and then throws away any products whose total in stock is less than 100. The second query filters the sequence first, resulting in a sort on what may be a much smaller sequence. You need to understand which methods require the full sequence, and try to execute those last in your query expression.\n",
    "\n",
    "At other times, though, you do want a snapshot of the values taken at a point in time. There are two methods you can use to generate the sequence immediately and store the results in a container: ToList() and ToArray()."
   ]
  },
  {
   "cell_type": "code",
   "execution_count": 17,
   "metadata": {},
   "outputs": [],
   "source": [
    "public static IEnumerable<int> GetItems() {\n",
    "    for (int i=1; i<=10; i++) {\n",
    "        yield return i;\n",
    "    }\n",
    "}"
   ]
  },
  {
   "cell_type": "code",
   "execution_count": 20,
   "metadata": {},
   "outputs": [
    {
     "name": "stdout",
     "output_type": "stream",
     "text": [
      "1 2 3 4 5 6 7 8 9 10 "
     ]
    }
   ],
   "source": [
    "foreach(var item in GetItems()) {\n",
    "    Console.Write(item + \" \");\n",
    "}"
   ]
  },
  {
   "cell_type": "code",
   "execution_count": 24,
   "metadata": {},
   "outputs": [
    {
     "name": "stdout",
     "output_type": "stream",
     "text": [
      "1 2 3 4 5 6 7 8 9 10 "
     ]
    }
   ],
   "source": [
    "var items = GetItems().ToList();\n",
    "foreach(var item in items) {\n",
    "    Console.Write(item + \" \");\n",
    "}"
   ]
  },
  {
   "cell_type": "code",
   "execution_count": 25,
   "metadata": {},
   "outputs": [
    {
     "name": "stdout",
     "output_type": "stream",
     "text": [
      "1 2 3 4 5 6 7 8 9 10 "
     ]
    }
   ],
   "source": [
    "var items = GetItems().ToArray();\n",
    "foreach(var item in items) {\n",
    "    Console.Write(item + \" \");\n",
    "}"
   ]
  },
  {
   "cell_type": "markdown",
   "metadata": {},
   "source": [
    "In almost all cases, lazy evaluation saves work and is more versatile than eager evaluation. In the rare cases when you do need eager evaluation, you can force it by running the query and storing the sequence results using ToList() or ToArray()."
   ]
  },
  {
   "cell_type": "markdown",
   "metadata": {},
   "source": [
    "### Item 38: Prefer Lambda Expressions to Methods\n",
    "The following code snipped has the same logic repeated several times."
   ]
  },
  {
   "cell_type": "code",
   "execution_count": 28,
   "metadata": {},
   "outputs": [
    {
     "name": "stdout",
     "output_type": "stream",
     "text": [
      "BobBrozman 10 60000\r\n"
     ]
    }
   ],
   "source": [
    "public class Employee {\n",
    "    public readonly string FirstName;\n",
    "    public readonly string LastName;\n",
    "    public double Salary {get; set;}\n",
    "    public double YearsOfService {get; set;}\n",
    "    \n",
    "    public Employee (string FirstName, string LastName, double Salary, double YearsOfService) {\n",
    "        this.FirstName = FirstName;\n",
    "        this.LastName = LastName;\n",
    "        this.Salary = Salary;\n",
    "        this.YearsOfService = YearsOfService;\n",
    "    }\n",
    "    \n",
    "    public override string ToString() {\n",
    "        return this.FirstName + this.LastName + \" \" + this.YearsOfService.ToString() + \" \" + this.Salary.ToString();\n",
    "    }\n",
    "}\n",
    "\n",
    "var employee = new Employee(\"Bob\", \"Brozman\", 60000, 10);\n",
    "Console.WriteLine(employee.ToString());"
   ]
  },
  {
   "cell_type": "code",
   "execution_count": 31,
   "metadata": {},
   "outputs": [
    {
     "name": "stdout",
     "output_type": "stream",
     "text": [
      "BobBrozman 10 60000\n",
      "SharonSmith 5 40000\n",
      "BettyWhite 25 120000\n",
      "SimonGrimes 8 75000\n"
     ]
    }
   ],
   "source": [
    "var allEmployees = new List<Employee> {\n",
    "    new Employee(\"Bob\", \"Brozman\", 60000, 10),\n",
    "    new Employee(\"Sharon\", \"Smith\", 40000, 5),\n",
    "    new Employee(\"Betty\", \"White\", 120000, 25),\n",
    "    new Employee(\"Simon\", \"Grimes\", 75000, 8),\n",
    "};\n",
    "\n",
    "foreach(var employee in allEmployees) {\n",
    "    Console.WriteLine(employee);\n",
    "}"
   ]
  },
  {
   "cell_type": "code",
   "execution_count": 35,
   "metadata": {},
   "outputs": [
    {
     "name": "stdout",
     "output_type": "stream",
     "text": [
      "BobBrozman 10 60000\r\n"
     ]
    }
   ],
   "source": [
    "var earlyFolks = from e in allEmployees\n",
    "    where e.YearsOfService >= 10\n",
    "    where e.Salary < 100000\n",
    "    select e;\n",
    "\n",
    "foreach(var employee in earlyFolks) {\n",
    "    Console.WriteLine(employee);\n",
    "}"
   ]
  },
  {
   "cell_type": "markdown",
   "metadata": {},
   "source": [
    "### Item 39: Avoid Throwing Exceptions in Functions and Actions\n",
    "When you create code that executes over a sequence of values and the code throws an exception somewhere in that sequence processing, you'll have problems recovering state. You don’t know how many elements were processed, if any. You don't know what needs to be rolled back. You can't restore the program state at all.\n",
    "\n",
    "You fix this situation by guaranteeing that whenever the method does not complete, the observable program state does not change. You can implement this in various ways, each with its own benefits and risks.\n",
    "\n",
    "The first and easiest approach is to rework the action so that you can ensure that the action method, expressed earlier in the lambda expression, never throws an exception.\n",
    "\n",
    "Sometimes you may not be able to guarantee that those expressions never throw an exception. Now you must take more-expensive defensive measures. You need to rework the algorithm to take into account the possibility of an exception. That means doing all the work on a copy and then replacing the original sequence with the copy only if the operation completes successfully."
   ]
  },
  {
   "cell_type": "markdown",
   "metadata": {},
   "source": [
    "### Item 40: Distinguish Early from Deferred Execution\n"
   ]
  },
  {
   "cell_type": "markdown",
   "metadata": {},
   "source": [
    "### Item 41: Avoid Capturing Expensive Resources\n",
    "When you capture a variable in a closure, the object referenced by that variable can have its lifetime extended. It is not garbage until the last delegate referencing that captured variable becomes garbage. Under some circumstances it may last even longer.\n"
   ]
  },
  {
   "cell_type": "markdown",
   "metadata": {},
   "source": [
    "### Item 42: Distinguish between IEnumerable and IQueryable Data Sources\n",
    "IQueryable<T> and IEnumerable<T> have very similar API signatures. IQueryable<T> derives from IEnumerable<T>. You might think that these two interfaces are interchangeable. In many cases they are, and that’s by design. In contrast, a sequence is a sequence, but sequences are not always interchangeable. Their behaviors are different, and their performance metrics can be very, very different."
   ]
  },
  {
   "cell_type": "code",
   "execution_count": 39,
   "metadata": {},
   "outputs": [
    {
     "name": "stdout",
     "output_type": "stream",
     "text": [
      "Simon, Wellington\r\n"
     ]
    }
   ],
   "source": [
    "public class Customer {\n",
    "    public readonly string Name;\n",
    "    public readonly string City;\n",
    "    \n",
    "    public Customer(string Name, string City) {\n",
    "        this.Name = Name;\n",
    "        this.City = City;\n",
    "    }\n",
    "    \n",
    "    public override string ToString() {\n",
    "        return this.Name + \", \" + this.City;\n",
    "    }\n",
    "}\n",
    "\n",
    "var customer = new Customer(\"Simon\", \"Wellington\");\n",
    "Console.WriteLine(customer);"
   ]
  },
  {
   "cell_type": "code",
   "execution_count": 42,
   "metadata": {},
   "outputs": [
    {
     "name": "stdout",
     "output_type": "stream",
     "text": [
      "Simon, Wellington\n",
      "Jane, New York\n",
      "Jack, Sydney\n",
      "Jim, Sydney\n",
      "Vlad, Moscow\n"
     ]
    }
   ],
   "source": [
    "var customers = new List<Customer> {\n",
    "    new Customer(\"Simon\", \"Wellington\"),\n",
    "    new Customer(\"Jane\", \"New York\"),\n",
    "    new Customer(\"Jack\", \"Sydney\"),\n",
    "    new Customer(\"Jim\", \"Sydney\"),\n",
    "    new Customer(\"Vlad\", \"Moscow\")\n",
    "};\n",
    "\n",
    "foreach(var customer in customers) {\n",
    "    Console.WriteLine(customer);\n",
    "}"
   ]
  },
  {
   "cell_type": "code",
   "execution_count": 44,
   "metadata": {},
   "outputs": [
    {
     "name": "stdout",
     "output_type": "stream",
     "text": [
      "Jack, Sydney\n",
      "Jim, Sydney\n"
     ]
    }
   ],
   "source": [
    "var q = from c in customers\n",
    "    where c.City == \"Sydney\"\n",
    "    select c;\n",
    "\n",
    "var finalAnswer = from c in q\n",
    "    orderby c.Name\n",
    "    select c;\n",
    "\n",
    "foreach(var customer in finalAnswer) {\n",
    "    Console.WriteLine(customer);\n",
    "}"
   ]
  },
  {
   "cell_type": "code",
   "execution_count": 45,
   "metadata": {},
   "outputs": [
    {
     "name": "stdout",
     "output_type": "stream",
     "text": [
      "Jack, Sydney\n",
      "Jim, Sydney\n"
     ]
    }
   ],
   "source": [
    "var q = (from c in customers\n",
    "    where c.City == \"Sydney\"\n",
    "    select c).AsEnumerable();\n",
    "\n",
    "var finalAnswer = from c in q\n",
    "    orderby c.Name\n",
    "    select c;\n",
    "\n",
    "foreach(var customer in finalAnswer) {\n",
    "    Console.WriteLine(customer);\n",
    "}"
   ]
  },
  {
   "cell_type": "markdown",
   "metadata": {},
   "source": [
    "In the second case, returning the first query as an IEnumerable<T> sequence means that subsequent operations use the LINQ to Objects implementation and are executed using delegates. You should care about the differences because many queries work quite a bit more efficiently if you use IQueryable functionality than if you use IEnumerable functionality."
   ]
  },
  {
   "cell_type": "markdown",
   "metadata": {},
   "source": [
    "### Item 43: Use Single() and First() to Enforce Semantic Expectations on Queries\n",
    "Single() returns exactly one element. If no elements exist, or if multiple elements exist, then Single() throws an exception. That’s a rather strong statement about your expectations. Yes, it fails if your assumptions are wrong, but it fails quickly and in a way that doesn’t cause any data corruption."
   ]
  },
  {
   "cell_type": "code",
   "execution_count": 51,
   "metadata": {},
   "outputs": [
    {
     "name": "stdout",
     "output_type": "stream",
     "text": [
      "Bill Gates\n",
      "Simon Smith\n",
      "Bill Johnson\n"
     ]
    }
   ],
   "source": [
    "public class Person {\n",
    "    public string FirstName {get; set;}\n",
    "    public string LastName {get; set;}\n",
    "    \n",
    "    public override string ToString() {\n",
    "        return this.FirstName + \" \" + this.LastName;\n",
    "    }\n",
    "}\n",
    "\n",
    "var somePeople = new List<Person> {\n",
    "    new Person { FirstName = \"Bill\", LastName = \"Gates\"},\n",
    "    new Person { FirstName = \"Simon\", LastName = \"Smith\"},\n",
    "    new Person { FirstName = \"Bill\", LastName = \"Johnson\"}\n",
    "};\n",
    "\n",
    "foreach(var person in somePeople) {\n",
    "    Console.WriteLine(person);\n",
    "}"
   ]
  },
  {
   "cell_type": "code",
   "execution_count": 53,
   "metadata": {},
   "outputs": [
    {
     "name": "stdout",
     "output_type": "stream",
     "text": [
      "Simon Smith\r\n"
     ]
    }
   ],
   "source": [
    "var answer = (from p in somePeople\n",
    "    where p.FirstName == \"Simon\"\n",
    "    select p).Single();\n",
    "\n",
    "Console.WriteLine(answer);"
   ]
  },
  {
   "cell_type": "markdown",
   "metadata": {},
   "source": [
    "When there is more than one element in the sequence an exception will be thrown."
   ]
  },
  {
   "cell_type": "code",
   "execution_count": 55,
   "metadata": {},
   "outputs": [
    {
     "ename": "Unhandled exception",
     "evalue": "System.InvalidOperationException: Sequence contains more than one element\r\n   at System.Linq.ThrowHelper.ThrowMoreThanOneElementException()\r\n   at System.Linq.Enumerable.Single[TSource](IEnumerable`1 source)\r\n   at Submission#58.<<Initialize>>d__0.MoveNext()\r\n--- End of stack trace from previous location where exception was thrown ---\r\n   at Microsoft.CodeAnalysis.Scripting.ScriptExecutionState.RunSubmissionsAsync[TResult](ImmutableArray`1 precedingExecutors, Func`2 currentExecutor, StrongBox`1 exceptionHolderOpt, Func`2 catchExceptionOpt, CancellationToken cancellationToken)",
     "output_type": "error",
     "traceback": [
      "System.InvalidOperationException: Sequence contains more than one element\r\n   at System.Linq.ThrowHelper.ThrowMoreThanOneElementException()\r\n   at System.Linq.Enumerable.Single[TSource](IEnumerable`1 source)\r\n   at Submission#58.<<Initialize>>d__0.MoveNext()\r\n--- End of stack trace from previous location where exception was thrown ---\r\n   at Microsoft.CodeAnalysis.Scripting.ScriptExecutionState.RunSubmissionsAsync[TResult](ImmutableArray`1 precedingExecutors, Func`2 currentExecutor, StrongBox`1 exceptionHolderOpt, Func`2 catchExceptionOpt, CancellationToken cancellationToken)",
      "   at System.Linq.ThrowHelper.ThrowMoreThanOneElementException()",
      "   at System.Linq.Enumerable.Single[TSource](IEnumerable`1 source)",
      "   at Submission#58.<<Initialize>>d__0.MoveNext()",
      "--- End of stack trace from previous location where exception was thrown ---",
      "   at Microsoft.CodeAnalysis.Scripting.ScriptExecutionState.RunSubmissionsAsync[TResult](ImmutableArray`1 precedingExecutors, Func`2 currentExecutor, StrongBox`1 exceptionHolderOpt, Func`2 catchExceptionOpt, CancellationToken cancellationToken)"
     ]
    }
   ],
   "source": [
    "var answer = (from p in somePeople\n",
    "    where p.FirstName == \"Bill\"\n",
    "    select p).Single();"
   ]
  },
  {
   "cell_type": "markdown",
   "metadata": {},
   "source": [
    "It'll also throw an exception if no elements are found..."
   ]
  },
  {
   "cell_type": "code",
   "execution_count": 57,
   "metadata": {},
   "outputs": [
    {
     "ename": "Unhandled exception",
     "evalue": "System.InvalidOperationException: Sequence contains no elements\r\n   at System.Linq.ThrowHelper.ThrowNoElementsException()\r\n   at System.Linq.Enumerable.Single[TSource](IEnumerable`1 source)\r\n   at Submission#60.<<Initialize>>d__0.MoveNext()\r\n--- End of stack trace from previous location where exception was thrown ---\r\n   at Microsoft.CodeAnalysis.Scripting.ScriptExecutionState.RunSubmissionsAsync[TResult](ImmutableArray`1 precedingExecutors, Func`2 currentExecutor, StrongBox`1 exceptionHolderOpt, Func`2 catchExceptionOpt, CancellationToken cancellationToken)",
     "output_type": "error",
     "traceback": [
      "System.InvalidOperationException: Sequence contains no elements\r\n   at System.Linq.ThrowHelper.ThrowNoElementsException()\r\n   at System.Linq.Enumerable.Single[TSource](IEnumerable`1 source)\r\n   at Submission#60.<<Initialize>>d__0.MoveNext()\r\n--- End of stack trace from previous location where exception was thrown ---\r\n   at Microsoft.CodeAnalysis.Scripting.ScriptExecutionState.RunSubmissionsAsync[TResult](ImmutableArray`1 precedingExecutors, Func`2 currentExecutor, StrongBox`1 exceptionHolderOpt, Func`2 catchExceptionOpt, CancellationToken cancellationToken)",
      "   at System.Linq.ThrowHelper.ThrowNoElementsException()",
      "   at System.Linq.Enumerable.Single[TSource](IEnumerable`1 source)",
      "   at Submission#60.<<Initialize>>d__0.MoveNext()",
      "--- End of stack trace from previous location where exception was thrown ---",
      "   at Microsoft.CodeAnalysis.Scripting.ScriptExecutionState.RunSubmissionsAsync[TResult](ImmutableArray`1 precedingExecutors, Func`2 currentExecutor, StrongBox`1 exceptionHolderOpt, Func`2 catchExceptionOpt, CancellationToken cancellationToken)"
     ]
    }
   ],
   "source": [
    "var answer = (from p in somePeople\n",
    "    where p.FirstName == \"Larry\"\n",
    "    select p).Single();"
   ]
  },
  {
   "cell_type": "markdown",
   "metadata": {},
   "source": [
    "Of course, there are times when you expect to get more than one value but you want a specific one. The best choice is First() or FirstOrDefault()."
   ]
  },
  {
   "cell_type": "code",
   "execution_count": 58,
   "metadata": {},
   "outputs": [
    {
     "data": {
      "text/html": [
       "<table><thead><tr><th>FirstName</th><th>LastName</th></tr></thead><tbody><tr><td>Bill</td><td>Gates</td></tr></tbody></table>"
      ]
     },
     "execution_count": 58,
     "metadata": {},
     "output_type": "execute_result"
    }
   ],
   "source": [
    "(from p in somePeople where p.FirstName == \"Bill\" select p).FirstOrDefault()"
   ]
  },
  {
   "cell_type": "code",
   "execution_count": 61,
   "metadata": {},
   "outputs": [
    {
     "data": {
      "text/html": [
       "True"
      ]
     },
     "execution_count": 61,
     "metadata": {},
     "output_type": "execute_result"
    }
   ],
   "source": [
    "(from p in somePeople where p.FirstName == \"Larry\" select p).FirstOrDefault() is null"
   ]
  },
  {
   "cell_type": "code",
   "execution_count": 62,
   "metadata": {},
   "outputs": [
    {
     "ename": "Unhandled exception",
     "evalue": "System.InvalidOperationException: Sequence contains no elements\r\n   at System.Linq.ThrowHelper.ThrowNoElementsException()\r\n   at System.Linq.Enumerable.First[TSource](IEnumerable`1 source)\r\n   at Submission#65.<<Initialize>>d__0.MoveNext()\r\n--- End of stack trace from previous location where exception was thrown ---\r\n   at Microsoft.CodeAnalysis.Scripting.ScriptExecutionState.RunSubmissionsAsync[TResult](ImmutableArray`1 precedingExecutors, Func`2 currentExecutor, StrongBox`1 exceptionHolderOpt, Func`2 catchExceptionOpt, CancellationToken cancellationToken)",
     "output_type": "error",
     "traceback": [
      "System.InvalidOperationException: Sequence contains no elements\r\n   at System.Linq.ThrowHelper.ThrowNoElementsException()\r\n   at System.Linq.Enumerable.First[TSource](IEnumerable`1 source)\r\n   at Submission#65.<<Initialize>>d__0.MoveNext()\r\n--- End of stack trace from previous location where exception was thrown ---\r\n   at Microsoft.CodeAnalysis.Scripting.ScriptExecutionState.RunSubmissionsAsync[TResult](ImmutableArray`1 precedingExecutors, Func`2 currentExecutor, StrongBox`1 exceptionHolderOpt, Func`2 catchExceptionOpt, CancellationToken cancellationToken)",
      "   at System.Linq.ThrowHelper.ThrowNoElementsException()",
      "   at System.Linq.Enumerable.First[TSource](IEnumerable`1 source)",
      "   at Submission#65.<<Initialize>>d__0.MoveNext()",
      "--- End of stack trace from previous location where exception was thrown ---",
      "   at Microsoft.CodeAnalysis.Scripting.ScriptExecutionState.RunSubmissionsAsync[TResult](ImmutableArray`1 precedingExecutors, Func`2 currentExecutor, StrongBox`1 exceptionHolderOpt, Func`2 catchExceptionOpt, CancellationToken cancellationToken)"
     ]
    }
   ],
   "source": [
    "(from p in somePeople where p.FirstName == \"Larry\" select p).First()"
   ]
  },
  {
   "cell_type": "markdown",
   "metadata": {},
   "source": [
    "### Item 44: Avoid Modifying Bound Variables"
   ]
  },
  {
   "cell_type": "code",
   "execution_count": 70,
   "metadata": {},
   "outputs": [
    {
     "name": "stdout",
     "output_type": "stream",
     "text": [
      "20 21 22 23 24 25 26 27 28 29 \n",
      "Done\n",
      "100 101 102 103 104 105 106 107 108 109 \n"
     ]
    }
   ],
   "source": [
    "\n",
    "public class Utilities {\n",
    "    public static IEnumerable<TResult> Generate<TResult>(int number, Func<TResult> generator) {\n",
    "        for (var i=0; i<number; i++) {\n",
    "            yield return generator();\n",
    "        }\n",
    "    }\n",
    "}\n",
    "\n",
    "var index = 0;\n",
    "Func<IEnumerable<int>> sequence = () => Utilities.Generate(10, () => index++);\n",
    "\n",
    "// with an index of 20\n",
    "index = 20;\n",
    "foreach(int n in sequence()) {\n",
    "    Console.Write(n + \" \");\n",
    "}\n",
    "Console.WriteLine();\n",
    "Console.WriteLine(\"Done\");\n",
    "\n",
    "// with an index of 100\n",
    "index = 100;\n",
    "foreach(var n in sequence()) {\n",
    "    Console.Write(n + \" \");\n",
    "}\n",
    "Console.WriteLine();"
   ]
  },
  {
   "cell_type": "markdown",
   "metadata": {},
   "source": [
    "We're effectively changing the behaviour of sequence() when changing the value of index."
   ]
  },
  {
   "cell_type": "code",
   "execution_count": 74,
   "metadata": {},
   "outputs": [
    {
     "name": "stdout",
     "output_type": "stream",
     "text": [
      "0 1 4 9 16 25 "
     ]
    }
   ],
   "source": [
    "int[] someNumbers = {0, 1, 2, 3, 4, 5};\n",
    "var answers = from n in someNumbers select n * n;\n",
    "foreach(var n in answers) {\n",
    "    Console.Write(n + \" \");\n",
    "}"
   ]
  },
  {
   "cell_type": "markdown",
   "metadata": {},
   "source": [
    "***"
   ]
  }
 ],
 "metadata": {
  "kernelspec": {
   "display_name": ".NET (C#)",
   "language": "C#",
   "name": ".net-csharp"
  },
  "language_info": {
   "file_extension": ".cs",
   "mimetype": "text/x-csharp",
   "name": "C#",
   "pygments_lexer": "csharp",
   "version": "8.0"
  }
 },
 "nbformat": 4,
 "nbformat_minor": 2
}
