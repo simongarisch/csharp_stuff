{
 "cells": [
  {
   "cell_type": "markdown",
   "metadata": {},
   "source": [
    "## 2. .NET Resource Management\n",
    "\n",
    "### Item 11: Understand .NET Resource Management\n",
    "Memory management (for the managed heap) is completely the responsibility of the garbage collector. Other system resources must be managed by developers.\n",
    "\n",
    "Two mechanisms help developers control the lifetimes of unmanaged resources: finalizers and the IDisposable interface. A finalizer is a defensive mechanism that ensures that your objects always have a way to release unmanaged resources. Finalizers have many drawbacks, so you also have the IDisposable interface that provides a less intrusive way to return resources to the system in a timely manner.\n",
    "\n",
    "The garbage collector is responsible for calling a finalizer on an object instance. Therefore, developers cannot determine at compile time exactly when the finalizer will execute. "
   ]
  },
  {
   "cell_type": "code",
   "execution_count": 12,
   "metadata": {},
   "outputs": [
    {
     "name": "stdout",
     "output_type": "stream",
     "text": [
      "Constructor runs...\r\n"
     ]
    }
   ],
   "source": [
    "class TestClass {\n",
    "    public TestClass() {\n",
    "        Console.WriteLine(\"Constructor runs...\");\n",
    "    }\n",
    "    \n",
    "    ~TestClass() {\n",
    "        Console.WriteLine(\"Finalizer runs...\");\n",
    "    }\n",
    "}\n",
    "\n",
    "\n",
    "class Ignition {\n",
    "    public static void Engage() {\n",
    "        var t = new TestClass();\n",
    "        t = null;\n",
    "    }\n",
    "}\n",
    "\n",
    "\n",
    "Ignition.Engage();"
   ]
  },
  {
   "cell_type": "code",
   "execution_count": 13,
   "metadata": {},
   "outputs": [
    {
     "name": "stdout",
     "output_type": "stream",
     "text": [
      "Finalizer runs...\r\n"
     ]
    }
   ],
   "source": [
    "System.GC.Collect(); // force the GC to run"
   ]
  },
  {
   "cell_type": "markdown",
   "metadata": {},
   "source": [
    "[When to implement a finalizer](https://csharp.2000things.com/2012/12/17/737-when-to-implement-a-finalizer/)"
   ]
  },
  {
   "cell_type": "markdown",
   "metadata": {},
   "source": [
    "Relying on finalizers also introduces performance penalties. Objects that require finalization put a performance drag on the garbage collector.\n",
    "\n",
    "The GC optimizes its work by limiting how often it examines first- and second-generation objects. Every GC cycle examines generation 0 objects. Roughly one GC out of ten examines the generation 0 and 1 objects. Roughly one GC cycle out of 100 examines all objects. Think about finalization and its cost again: An object that requires finalization might stay in memory for nine GC cycles more than it would if it did not require finalization.\n",
    "\n",
    "Finalizers are not a good solution. Yet you still need to free resources. You address these issues using the IDisposable interface and the standard dispose pattern."
   ]
  },
  {
   "cell_type": "markdown",
   "metadata": {},
   "source": [
    "### Item 12: Prefer Member Initializers to Assignment Statements\n",
    "Constructing a member variable when you declare that variable is natural in C#. Just initialize the variable when you declare it."
   ]
  },
  {
   "cell_type": "code",
   "execution_count": 15,
   "metadata": {},
   "outputs": [],
   "source": [
    "using System;\n",
    "using System.Collections.Generic;\n",
    "\n",
    "class MyClass {\n",
    "    private List<string> labels = new List<string>();\n",
    "}\n",
    "\n",
    "var c = new MyClass();"
   ]
  },
  {
   "cell_type": "markdown",
   "metadata": {},
   "source": [
    "Regardless of the number of constructors you eventually add to the MyClass type, labels will be initialized properly. Using initializers is the simplest way to avoid uninitialized variables in your types, but it’s not perfect. In three cases, you should not use the initializer syntax.\n",
    "\n",
    "The first is when you are initializing the object to 0, or null.\n",
    "\n",
    "The second inefficiency comes when you create multiple initializations for the same object. You should use the initializer syntax only for variables that receive the same initialization in all constructors.\n",
    "\n",
    "The final reason to move initialization into the body of a constructor is to facilitate exception handling. "
   ]
  },
  {
   "cell_type": "markdown",
   "metadata": {},
   "source": [
    "### Item 13: Use Proper Initialization for Static Class Members\n",
    "A static constructor is a special function that executes before any other methods, variables, or properties defined in that class are accessed for the first time. You use this function to initialize static variables, enforce the singleton pattern, or perform any other necessary work before a class is usable."
   ]
  },
  {
   "cell_type": "code",
   "execution_count": 20,
   "metadata": {},
   "outputs": [
    {
     "name": "stdout",
     "output_type": "stream",
     "text": [
      "MySingleton\r\n"
     ]
    }
   ],
   "source": [
    "public class MySingleton {\n",
    "    private static readonly MySingleton theOneAndOnly = new MySingleton();\n",
    "    \n",
    "    public static MySingleton TheOnly {\n",
    "        get{return theOneAndOnly;}\n",
    "    } \n",
    "}\n",
    "\n",
    "var ms = MySingleton.TheOnly;\n",
    "Console.WriteLine(ms.GetType().Name);"
   ]
  },
  {
   "cell_type": "markdown",
   "metadata": {},
   "source": [
    "The CLR calls your [static constructor](https://docs.microsoft.com/en-us/dotnet/csharp/programming-guide/classes-and-structs/static-constructors) automatically before your type is first accessed in an application space (an AppDomain). You can define only one static constructor, and it must not take any arguments."
   ]
  },
  {
   "cell_type": "markdown",
   "metadata": {},
   "source": [
    "### Item 14: Minimize Duplicate Initialization Logic\n",
    "Constructor initializers allow one constructor to call another constructor. This example shows a simple usage."
   ]
  },
  {
   "cell_type": "code",
   "execution_count": 28,
   "metadata": {},
   "outputs": [],
   "source": [
    "class ImportantData {}\n",
    "\n",
    "class MyClass {\n",
    "    private List<ImportantData> coll;\n",
    "    private string name;\n",
    "    \n",
    "    public MyClass(): this(0, \"\") {}\n",
    "    \n",
    "    public MyClass(int initialCount): this(initialCount, string.Empty) {}\n",
    "    \n",
    "    public MyClass(int initialCount, string name) {\n",
    "        coll = (initialCount > 0) ?\n",
    "            new List<ImportantData>(initialCount):\n",
    "            new List<ImportantData>();\n",
    "        this.name = name;\n",
    "    }\n",
    "    \n",
    "    public override string ToString() {\n",
    "        return \"Name '\" + this.name + \"' with coll length \" + this.coll.Count;\n",
    "    }\n",
    "}\n"
   ]
  },
  {
   "cell_type": "code",
   "execution_count": 29,
   "metadata": {},
   "outputs": [
    {
     "name": "stdout",
     "output_type": "stream",
     "text": [
      "Name '' with coll length 0\r\n"
     ]
    }
   ],
   "source": [
    "var mc = new MyClass();\n",
    "Console.WriteLine(mc.ToString());"
   ]
  },
  {
   "cell_type": "code",
   "execution_count": 32,
   "metadata": {},
   "outputs": [
    {
     "name": "stdout",
     "output_type": "stream",
     "text": [
      "Name 'Simon' with coll length 0\r\n"
     ]
    }
   ],
   "source": [
    "var mc = new MyClass(10, \"Simon\");\n",
    "Console.WriteLine(mc.ToString());"
   ]
  },
  {
   "cell_type": "markdown",
   "metadata": {},
   "source": [
    "C# 4.0 added default parameters, which you can use to minimize the duplicated code in constructors. You could replace all the different constructors for MyClass with one constructor that specifies default values for all or many of the values."
   ]
  },
  {
   "cell_type": "code",
   "execution_count": 35,
   "metadata": {},
   "outputs": [],
   "source": [
    "class MyClass {\n",
    "    private List<ImportantData> coll;\n",
    "    private string name;\n",
    "    \n",
    "    public MyClass() : this(0, string.Empty) {}\n",
    "    \n",
    "    public MyClass(int initialCount = 0, string name = \"\") {\n",
    "        coll = (initialCount > 0) ?\n",
    "            new List<ImportantData>(initialCount):\n",
    "            new List<ImportantData>();\n",
    "        this.name = name;\n",
    "    }\n",
    "    \n",
    "    public override string ToString() {\n",
    "        return \"Name '\" + this.name + \"' with coll length \" + this.coll.Count;\n",
    "    }\n",
    "}"
   ]
  },
  {
   "cell_type": "code",
   "execution_count": 36,
   "metadata": {},
   "outputs": [
    {
     "name": "stdout",
     "output_type": "stream",
     "text": [
      "Name 'Simon' with coll length 0\r\n"
     ]
    }
   ],
   "source": [
    "var mc = new MyClass(10, \"Simon\");\n",
    "Console.WriteLine(mc.ToString());"
   ]
  },
  {
   "cell_type": "markdown",
   "metadata": {},
   "source": [
    "### Item 15: Avoid Creating Unnecessary Objects\n",
    "One very common bad practice is to allocate GDI objects in a Windows paint handler. OnPaint() gets called frequently. Every time it gets called, you create another Font object that contains the exact same settings. The garbage collector needs to clean those up for you. Among the conditions that the GC uses to determine when to run are the amount of memory allocated and the frequency of memory allocations. More allocations mean more pressure on the GC, causing it to run more often. That's incredibly inefficient.\n",
    "\n",
    "Instead, promote the Font object from a local variable to a member variable. Reuse the same font each time you paint the window."
   ]
  },
  {
   "cell_type": "markdown",
   "metadata": {},
   "source": [
    "### Item 16: Never Call Virtual Functions in Constructors\n",
    "Virtual functions exhibit strange behaviors during the construction of an object. An object is not completely created until all constructors have executed. In the meantime, virtual functions may not behave the way you'd like or expect."
   ]
  },
  {
   "cell_type": "markdown",
   "metadata": {},
   "source": [
    "### Item 17: Implement the Standard Dispose Pattern\n",
    "A standard pattern is used throughout the .NET Framework for disposing of unmanaged resources. The users of your type will expect you to follow this standard pattern. The standard dispose idiom frees your unmanaged resources using the IDisposable interface when clients remember, and it uses the finalizer defensively when clients forget. It works with the garbage collector to ensure that your objects pay the performance penalty associated with finalizers only when necessary."
   ]
  },
  {
   "cell_type": "markdown",
   "metadata": {},
   "source": [
    "The root base class in the class hierarchy should do the following:\n",
    "-  It should implement the IDisposable interface to free resources.\n",
    "\n",
    "-  It should add a finalizer as a defensive mechanism if and only if your class directly contains an unmanaged resource.\n",
    "\n",
    "-  Both Dispose and the finalizer (if present) delegate the work of freeing resources to a virtual method that derived classes can override for their own resource management needs.\n",
    "\n",
    "\n",
    "The derived classes need to:\n",
    "-  Override the virtual method only when the derived class must free its own resources.\n",
    "-  Implement a finalizer if and only if one of its direct member fields is an unmanaged resource.  -  Remember to call the base class version of the function"
   ]
  },
  {
   "cell_type": "code",
   "execution_count": 40,
   "metadata": {},
   "outputs": [],
   "source": [
    "public interface IDisposable {\n",
    "    void Dispose();\n",
    "}\n",
    "\n",
    "public class MyResourceHog: IDisposable {\n",
    "    // flag for already disposed\n",
    "    private bool alreadyDisposed = false;\n",
    "    \n",
    "    \n",
    "    // implementation of IDisposable\n",
    "    // Call the virtual Dispose method\n",
    "    // Suppress Finalization\n",
    "    public void Dispose() {\n",
    "        Console.WriteLine(\"Calling MyResourceHog: public void Dispose()\");\n",
    "        Dispose(true);\n",
    "        System.GC.SuppressFinalize(this);\n",
    "    }\n",
    "    \n",
    "    // virtual dispose method\n",
    "    protected virtual void Dispose(bool isDisposing) {\n",
    "        Console.WriteLine(\"Calling MyResourceHog: public virtual void Dispose()\");\n",
    "        if (alreadyDisposed) {\n",
    "            return;\n",
    "        }\n",
    "        if (isDisposing) {\n",
    "            // free managed resources here\n",
    "        }\n",
    "        alreadyDisposed = true;\n",
    "    }\n",
    "    \n",
    "    public void ExampleMethod() {\n",
    "        Console.WriteLine(\"Calling MyResourceHog: public void ExampleMethod()\");\n",
    "        if (alreadyDisposed) {\n",
    "            throw new ObjectDisposedException(\n",
    "                \"MyResourceHog\",\n",
    "                \"called ExampleMethod on Disposed object\"\n",
    "            );\n",
    "        }\n",
    "        // ...\n",
    "    }\n",
    "}\n",
    "\n",
    "\n",
    "// If a derived class needs to perform additional cleanup,\n",
    "// it implements the protected Dispose method.\n",
    "class DerivedResourceHog : MyResourceHog {\n",
    "    private bool disposed = false;\n",
    "    \n",
    "    protected override void Dispose(bool isDisposing) {\n",
    "        Console.WriteLine(\"Calling DerivedResourceHog: protected override void Dispose()\");\n",
    "        if (disposed) {\n",
    "            return;\n",
    "        }\n",
    "        if (isDisposing) {\n",
    "            // free managed resources here\n",
    "        }\n",
    "        \n",
    "        // free unmanaged resources here\n",
    "        // Base class is responsible for calling GC.SuppressFinalize()\n",
    "        base.Dispose(isDisposing);\n",
    "        \n",
    "        disposed = true;\n",
    "    }\n",
    "}\n"
   ]
  },
  {
   "cell_type": "code",
   "execution_count": 46,
   "metadata": {},
   "outputs": [
    {
     "name": "stdout",
     "output_type": "stream",
     "text": [
      "Calling MyResourceHog: public void Dispose()\n",
      "Calling DerivedResourceHog: protected override void Dispose()\n",
      "Calling MyResourceHog: public virtual void Dispose()\n"
     ]
    }
   ],
   "source": [
    "var drh = new DerivedResourceHog();\n",
    "drh.Dispose();"
   ]
  },
  {
   "cell_type": "markdown",
   "metadata": {},
   "source": [
    "***"
   ]
  }
 ],
 "metadata": {
  "kernelspec": {
   "display_name": ".NET (C#)",
   "language": "C#",
   "name": ".net-csharp"
  },
  "language_info": {
   "file_extension": ".cs",
   "mimetype": "text/x-csharp",
   "name": "C#",
   "pygments_lexer": "csharp",
   "version": "8.0"
  }
 },
 "nbformat": 4,
 "nbformat_minor": 2
}
