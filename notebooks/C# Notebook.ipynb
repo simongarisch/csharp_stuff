{
 "cells": [
  {
   "cell_type": "markdown",
   "metadata": {},
   "source": [
    "## Hello C Sharp"
   ]
  },
  {
   "cell_type": "code",
   "execution_count": 1,
   "metadata": {},
   "outputs": [
    {
     "name": "stdout",
     "output_type": "stream",
     "text": [
      "Hello, C#\r\n"
     ]
    }
   ],
   "source": [
    "\n",
    "class Program {\n",
    "    public static void Main() {\n",
    "        Console.WriteLine(\"Hello, C#\");\n",
    "    }\n",
    "}\n",
    "\n",
    "\n",
    "Program.Main()"
   ]
  },
  {
   "cell_type": "code",
   "execution_count": 6,
   "metadata": {},
   "outputs": [
    {
     "name": "stdout",
     "output_type": "stream",
     "text": [
      "This is a test, but where is the syntax highlighting...\r\n"
     ]
    }
   ],
   "source": [
    "using System;\n",
    "\n",
    "class A {\n",
    "    public virtual void Test() {}\n",
    "}\n",
    "\n",
    "\n",
    "class B : A {\n",
    "    public override void Test() {\n",
    "        Console.WriteLine(\"This is a test, but where is the syntax highlighting...\");\n",
    "    }\n",
    "}\n",
    "\n",
    "\n",
    "B b = new B();\n",
    "b.Test();"
   ]
  },
  {
   "cell_type": "code",
   "execution_count": null,
   "metadata": {},
   "outputs": [],
   "source": []
  }
 ],
 "metadata": {
  "kernelspec": {
   "display_name": ".NET (C#)",
   "language": "C#",
   "name": ".net-csharp"
  },
  "language_info": {
   "file_extension": ".cs",
   "mimetype": "text/x-csharp",
   "name": "C#",
   "pygments_lexer": "csharp",
   "version": "8.0"
  }
 },
 "nbformat": 4,
 "nbformat_minor": 2
}
